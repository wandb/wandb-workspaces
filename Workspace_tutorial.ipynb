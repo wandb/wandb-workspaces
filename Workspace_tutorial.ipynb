{
  "nbformat": 4,
  "nbformat_minor": 0,
  "metadata": {
    "colab": {
      "provenance": [],
      "collapsed_sections": [
        "o3NsLMqUQnOF"
      ],
      "authorship_tag": "ABX9TyOe9Yh3lN8v51bwsZiLqC7f",
      "include_colab_link": true
    },
    "kernelspec": {
      "name": "python3",
      "display_name": "Python 3"
    },
    "language_info": {
      "name": "python"
    }
  },
  "cells": [
    {
      "cell_type": "markdown",
      "metadata": {
        "id": "view-in-github",
        "colab_type": "text"
      },
      "source": [
        "<a href=\"https://colab.research.google.com/github/wandb/wandb-workspaces/blob/example-notebook/Workspace_tutorial.ipynb\" target=\"_parent\"><img src=\"https://colab.research.google.com/assets/colab-badge.svg\" alt=\"Open In Colab\"/></a>"
      ]
    },
    {
      "cell_type": "markdown",
      "source": [
        "\n",
        "# Sample Notebook for [Weights & Biases Programmatic Workspace](https://docs.wandb.ai/guides/app/pages/workspaces#saved-workspace-views)\n",
        "\n",
        "\n",
        "### Overview\n",
        "* [wandb-workspaces](https://github.com/wandb/wandb-workspaces/tree/main) is a Python library for programmatically working with Weights & Biases workspaces and Reports. You can define a workspace programmatically by defining the workspace's properties, such as its name, associated entity and project, and the sections it should contain.\n",
        "\n",
        "* Programmatically create and customize workspaces by defining configurations, setting panel layouts, and organizing sections. Load and modify workspaces via URL, filter and group runs using expressions, and customize run appearances. Easily copy views across workspaces for integration.\n",
        "\n",
        "### Known limitations\n",
        "* Only compatible with Saved Views (URLs ending with ?nw=...). Clone a `Personal Workspace` as `Saved Views` for programmatic interaction.\n",
        "\n",
        "### Notebook Instructions:\n",
        "\n",
        "* Run each cell step by step. The notebook will log sample data to a project named `workspace-api-example`.\n",
        "* The notebook will create the project, log sample a to it, and then demonstrate the workspace examples using this data."
      ],
      "metadata": {
        "id": "MmxL0wjvrNtQ"
      }
    },
    {
      "cell_type": "markdown",
      "source": [
        "# Install and Import Dependencies"
      ],
      "metadata": {
        "id": "X6AencUCi19a"
      }
    },
    {
      "cell_type": "code",
      "source": [
        "# Install dependencies\n",
        "!pip install wandb wandb-workspaces"
      ],
      "metadata": {
        "id": "99KU0ZiY4t36"
      },
      "execution_count": null,
      "outputs": []
    },
    {
      "cell_type": "code",
      "source": [
        "# makes formatting nicer (you might want to use dark mode on colab)\n",
        "%load_ext rich"
      ],
      "metadata": {
        "id": "0itfrwoY56Ue"
      },
      "execution_count": null,
      "outputs": []
    },
    {
      "cell_type": "code",
      "source": [
        "# Import dependencies\n",
        "\n",
        "import os\n",
        "import wandb\n",
        "import wandb_workspaces.workspaces as ws\n",
        "import wandb_workspaces.reports.v2 as wr # We use the Reports API panels"
      ],
      "metadata": {
        "id": "IQigRhck4zbF"
      },
      "execution_count": null,
      "outputs": []
    },
    {
      "cell_type": "markdown",
      "source": [
        "# Create a Project to interact with programmatically for notebook examples"
      ],
      "metadata": {
        "id": "1CAls6JljDFo"
      }
    },
    {
      "cell_type": "code",
      "source": [
        "# Initialize Weights & Biases and Login\n",
        "wandb.login()\n",
        "\n",
        "# Function to create a new project and log sample data\n",
        "def create_project_and_log_data():\n",
        "    project = \"workspace-api-example\"  # Default project name\n",
        "\n",
        "    # Initialize a run to log some sample data\n",
        "    with wandb.init(project=project, name=\"sample_run\") as run:\n",
        "        for step in range(100):\n",
        "            wandb.log({\n",
        "                \"Step\": step,\n",
        "                \"val_loss\": 1.0 / (step + 1),\n",
        "                \"val_accuracy\": step / 100.0,\n",
        "                \"train_loss\": 1.0 / (step + 2),\n",
        "                \"train_accuracy\": step / 110.0,\n",
        "                \"f1_score\": step / 100.0,\n",
        "                \"recall\": step / 120.0,\n",
        "            })\n",
        "    return project\n",
        "\n",
        "# Create a new project and log data\n",
        "project = create_project_and_log_data()\n",
        "entity = wandb.Api().default_entity"
      ],
      "metadata": {
        "id": "rApkZmZB9Ueg",
        "collapsed": true
      },
      "execution_count": null,
      "outputs": []
    },
    {
      "cell_type": "markdown",
      "source": [
        "# Summary of Programmatic Workspace features:\n",
        "The Weights & Biases Workspace API allows you to create, manage, and customize workspaces programmatically. These capabilities are designed to help you organize and visualize your machine learning experiments more effectively.\n",
        "\n",
        "\n",
        "### 1. Workspace Creation\n",
        "* **Define Create Workspaces:** You can create a workspace with a specific\n",
        "name, associate it with a project, and organize it into sections.\n",
        "* **Customization:** Customize each workspace with settings such as axis configurations, smoothing types, outlier handling, and more.\n",
        "\n",
        "### 2. Sections and Panels\n",
        "* **Sections:** Organize your workspace into multiple sections, each containing a specific set of panels. Sections can be opened or closed based on your preference.\n",
        "* **Panels:** Add various types of panels such as line plots, bar plots, and scalar charts to visualize different metrics.\n",
        "* **Layouts:** Customize the layout of panels within each section using standard or custom grid layouts.\n",
        "\n",
        "### 3. Workspace Settings\n",
        "* **Global Settings:** Configure global settings for the workspace, including axis settings, smoothing options, outlier handling, and tooltip settings.\n",
        "* **Section and Panel Settings:** Override global settings at the section or panel level to provide more granular control over the visualization.\n",
        "\n",
        "### 4. Run Management\n",
        "* **Run Sets:** Manage sets of runs in the workspace. Apply filters to include or exclude specific runs based on metrics or metadata.\n",
        "* **Grouping and Ordering:** Group and order runs within the run set to better analyze and compare different experiments.\n",
        "* **Run Customization:** Customize individual run settings such as color and visibility within the workspace..\n",
        "\n",
        "### 5. Filters and Queries\n",
        "* **Filter Expressions:** Apply complex filter expressions to include or exclude runs based on specific criteria.\n",
        "* **Regex Queries:** Use regular expressions to search and filter runs within the workspace.\n",
        "\n",
        "### 6. Saving and Loading Workspaces\n",
        "* **Save Workspaces:** Save the current state of a workspace, making it accessible as a `Saved view` from the Project.\n",
        "* **Load Workspaces:** Load an existing workspace from a URL to review or modify it.\n",
        "* **Clone Workspaces:** Save a modified workspace as a new view, allowing you to create multiple versions of a workspace without affecting the original."
      ],
      "metadata": {
        "id": "E7WAoOlsiQTL"
      }
    },
    {
      "cell_type": "code",
      "source": [
        "# See all available settings for workspaces, sections, and panels.\n",
        "all_settings_objects = [x for x in dir(ws) if isinstance(getattr(ws, x), type)]\n",
        "all_settings_objects"
      ],
      "metadata": {
        "id": "irVaxJ289yMa"
      },
      "execution_count": null,
      "outputs": []
    },
    {
      "cell_type": "markdown",
      "source": [
        "# Creating a `Saved View` with new sections and panels\n",
        "\n",
        "* **Purpose:** Demonstrates how to create a new workspace and populate it with sections and panels.\n",
        "* **Benefit:** Helps users organize and visualize their project metrics in a structured manner.\n",
        "\n"
      ],
      "metadata": {
        "id": "kHD8tEjEPqjL"
      }
    },
    {
      "cell_type": "code",
      "source": [
        "\n",
        "def example_00(entity, project):\n",
        "    workspace = ws.Workspace(\n",
        "        name=\"Example W&B Workspace\",\n",
        "        entity=entity,\n",
        "        project=project,\n",
        "        sections=[\n",
        "            ws.Section(\n",
        "                name=\"Validation Metrics\",\n",
        "                panels=[\n",
        "                    wr.LinePlot(x=\"Step\", y=[\"val_loss\"]),\n",
        "                    wr.BarPlot(metrics=[\"val_accuracy\"]),\n",
        "                    wr.ScalarChart(metric=\"f1_score\", groupby_aggfunc=\"mean\"),\n",
        "                ],\n",
        "                is_open=True,\n",
        "            ),\n",
        "        ],\n",
        "    )\n",
        "    workspace.save()\n",
        "    print(\"Sample Workspace saved. Click the link above to open the new workspace.\")\n",
        "    return workspace.url\n",
        "\n",
        "workspace_url = example_00(entity, project)"
      ],
      "metadata": {
        "id": "sWmN5lNJB-pH"
      },
      "execution_count": null,
      "outputs": []
    },
    {
      "cell_type": "markdown",
      "source": [
        "# Loading and Cloning\n",
        "* **Purpose:** Demonstrates how to load an existing workspace, modify it, and save it as a new view.\n",
        "* **Benefit:** Allows users to duplicate and customize workspaces without affecting the original setup."
      ],
      "metadata": {
        "id": "SIIcxNVSQXmu"
      }
    },
    {
      "cell_type": "code",
      "source": [
        "def example_01(url):\n",
        "    workspace = ws.Workspace.from_url(url)\n",
        "    workspace.name = \"Updated Workspace Name\"\n",
        "    workspace.save()\n",
        "\n",
        "    print(f\"Workspace saved as new view.\")\n",
        "\n",
        "example_01(workspace_url)"
      ],
      "metadata": {
        "id": "_gWiaq_r9xIM"
      },
      "execution_count": null,
      "outputs": []
    },
    {
      "cell_type": "markdown",
      "source": [
        "# Basic Settings\n",
        "\n",
        "* **Purpose:** Demonstrates how to create a workspace, add sections with panels, and configure settings for the workspace and individual panels.\n",
        "* **Benefit:** Provides users with the ability to customize their workspace layout and visualization settings.\n"
      ],
      "metadata": {
        "id": "o3NsLMqUQnOF"
      }
    },
    {
      "cell_type": "code",
      "source": [
        "def example_02(entity, project):\n",
        "    workspace = ws.Workspace(name=\"An example workspace\", entity=entity, project=project)\n",
        "    workspace.sections = [\n",
        "        ws.Section(\n",
        "            name=\"Validation\",\n",
        "            panels=[\n",
        "                wr.LinePlot(x=\"Step\", y=[\"val_loss\"]),\n",
        "                wr.LinePlot(x=\"Step\", y=[\"val_accuracy\"]),\n",
        "                wr.ScalarChart(metric=\"f1_score\", groupby_aggfunc=\"mean\"),\n",
        "                wr.ScalarChart(metric=\"recall\", groupby_aggfunc=\"mean\"),\n",
        "            ],\n",
        "            is_open=True,\n",
        "        ),\n",
        "        ws.Section(\n",
        "            name=\"Training\",\n",
        "            panels=[\n",
        "                wr.LinePlot(x=\"Step\", y=[\"train_loss\"]),\n",
        "                wr.LinePlot(x=\"Step\", y=[\"train_accuracy\"]),\n",
        "            ],\n",
        "        ),\n",
        "    ]\n",
        "\n",
        "    workspace.settings = ws.WorkspaceSettings(\n",
        "        x_min=0,\n",
        "        x_max=75,\n",
        "        smoothing_type=\"gaussian\",\n",
        "        point_visualization_method=\"bucketing\",\n",
        "    )\n",
        "\n",
        "    section = workspace.sections[0]\n",
        "    section.panel_settings = ws.SectionPanelSettings(\n",
        "        x_min=25,\n",
        "        x_max=50,\n",
        "        smoothing_type=\"none\",\n",
        "    )\n",
        "\n",
        "    panel = section.panels[0]\n",
        "    panel.title = \"Validation Loss Custom Title\"\n",
        "    panel.title_x = \"Custom x-axis title\"\n",
        "\n",
        "    workspace.save()\n",
        "    print(\"Workspace with custom settings saved.\")\n",
        "\n",
        "example_02(entity, project)"
      ],
      "metadata": {
        "id": "Jeo-2lqMSKR5"
      },
      "execution_count": null,
      "outputs": []
    },
    {
      "cell_type": "markdown",
      "source": [
        "# Using Filters\n",
        "\n",
        "* **Purpose**: Demonstrates how to use runs filter within a workspace.\n",
        "* **Benefit**: Provides powerful filtering capabilities to focus on run data that match specific patterns."
      ],
      "metadata": {
        "id": "oT54K4DLQos-"
      }
    },
    {
      "cell_type": "code",
      "source": [
        "def example_03(entity, project):\n",
        "    # Get all runs in the project\n",
        "    runs = wandb.Api().runs(f\"{entity}/{project}\")\n",
        "\n",
        "    # Apply multiple filters: val_loss < 0.1, val_accuracy > 0.8, and run name matches regex pattern\n",
        "    workspace = ws.Workspace(\n",
        "        name=\"Advanced Filtered Workspace with Regex\",\n",
        "        entity=entity,\n",
        "        project=project,\n",
        "        sections=[\n",
        "            ws.Section(\n",
        "                name=\"Advanced Filtered Section\",\n",
        "                panels=[\n",
        "                    wr.LinePlot(x=\"Step\", y=[\"val_loss\"]),\n",
        "                    wr.LinePlot(x=\"Step\", y=[\"val_accuracy\"]),\n",
        "                ],\n",
        "                is_open=True,\n",
        "            ),\n",
        "        ],\n",
        "        runset_settings=ws.RunsetSettings(\n",
        "            filters=[\n",
        "                (ws.Metric(\"val_loss\") < 0.1),  # Filter runs by the 'val_loss' metric\n",
        "                (ws.Metric(\"val_accuracy\") > 0.8),  # Filter runs by the 'val_accuracy' metric\n",
        "                (ws.Metric(\"ID\").isin([run.id for run in wandb.Api().runs(f\"{entity}/{project}\")])),\n",
        "            ],\n",
        "            regex_query=True,\n",
        "        )\n",
        "    )\n",
        "\n",
        "    # Add regex search to match run names starting with 's'\n",
        "    workspace.runset_settings.query = \"^s\"\n",
        "    workspace.runset_settings.regex_query = True\n",
        "\n",
        "    workspace.save()\n",
        "    print(\"Workspace with advanced filters and regex search saved.\")\n",
        "\n",
        "example_03(entity, project)"
      ],
      "metadata": {
        "id": "IaBvnHSISobu"
      },
      "execution_count": null,
      "outputs": []
    },
    {
      "cell_type": "markdown",
      "source": [
        "# Changing Runs Colors\n",
        "* **Purpose:** Demonstrates how to change the colors of the runs in a workspace.\n",
        "* **Benefit:** Helps users visually distinguish between different runs by assigning unique colors.\n",
        "\n"
      ],
      "metadata": {
        "id": "-boRSciuQo1a"
      }
    },
    {
      "cell_type": "code",
      "source": [
        "def example_04(entity, project):\n",
        "    # Get all runs in the project\n",
        "    runs = wandb.Api().runs(f\"{entity}/{project}\")\n",
        "\n",
        "    # Dynamically assign colors to the runs\n",
        "    run_colors = ['purple', 'orange', 'teal', 'magenta']\n",
        "    run_settings = {}\n",
        "    for i, run in enumerate(runs):\n",
        "        run_settings[run.id] = ws.RunSettings(color=run_colors[i % len(run_colors)])\n",
        "\n",
        "    workspace = ws.Workspace(\n",
        "        name=\"Run Colors Workspace\",\n",
        "        entity=entity,\n",
        "        project=project,\n",
        "        sections=[\n",
        "            ws.Section(\n",
        "                name=\"Run Colors Section\",\n",
        "                panels=[\n",
        "                    wr.LinePlot(x=\"Step\", y=[\"val_loss\"]),\n",
        "                    wr.LinePlot(x=\"Step\", y=[\"val_accuracy\"]),\n",
        "                ],\n",
        "                is_open=True,\n",
        "            ),\n",
        "        ],\n",
        "        runset_settings=ws.RunsetSettings(\n",
        "            run_settings=run_settings\n",
        "        )\n",
        "    )\n",
        "\n",
        "    workspace.save()\n",
        "    print(\"Workspace with run colors saved.\")\n",
        "\n",
        "example_04(entity, project)"
      ],
      "metadata": {
        "id": "6JnC9tFKbYgm"
      },
      "execution_count": null,
      "outputs": []
    },
    {
      "cell_type": "markdown",
      "source": [
        "# Grouping Runs\n",
        "\n",
        "* **Purpose**: Demonstrates how to group runs by specific metrics.\n",
        "* **Benefit**: Helps users organize and analyze runs by grouping them based on shared characteristics."
      ],
      "metadata": {
        "id": "09GiaVZCQo9Y"
      }
    },
    {
      "cell_type": "code",
      "source": [
        "def example_05(entity, project):\n",
        "    workspace = ws.Workspace(\n",
        "        name=\"Grouped Runs Workspace\",\n",
        "        entity=entity,\n",
        "        project=project,\n",
        "        sections=[\n",
        "            ws.Section(\n",
        "                name=\"Grouped Runs\",\n",
        "                panels=[\n",
        "                    wr.LinePlot(x=\"Step\", y=[\"val_loss\"]),\n",
        "                    wr.LinePlot(x=\"Step\", y=[\"val_accuracy\"]),\n",
        "                ],\n",
        "                is_open=True,\n",
        "            ),\n",
        "        ],\n",
        "        runset_settings=ws.RunsetSettings(\n",
        "            groupby=[ws.Metric(\"Name\")]\n",
        "        )\n",
        "    )\n",
        "    workspace.save()\n",
        "    print(\"Workspace with grouped runs saved.\")\n",
        "\n",
        "example_05(entity, project)"
      ],
      "metadata": {
        "id": "oW4ZSYw5c1L_"
      },
      "execution_count": null,
      "outputs": []
    },
    {
      "cell_type": "markdown",
      "source": [
        "# Sorting Runs\n",
        "\n",
        "* **Purpose**: Demonstrates how to sort runs by specific metrics.\n",
        "* **Benefit**: Allows users to easily identify and focus on the most relevant runs based on their sorting criteria."
      ],
      "metadata": {
        "id": "oKGpIVS_QpE2"
      }
    },
    {
      "cell_type": "code",
      "source": [
        "def example_06(entity, project):\n",
        "    workspace = ws.Workspace(\n",
        "        name=\"Sorted Runs Workspace\",\n",
        "        entity=entity,\n",
        "        project=project,\n",
        "        sections=[\n",
        "            ws.Section(\n",
        "                name=\"Sorted Runs\",\n",
        "                panels=[\n",
        "                    wr.LinePlot(x=\"Step\", y=[\"val_loss\"]),\n",
        "                    wr.LinePlot(x=\"Step\", y=[\"val_accuracy\"]),\n",
        "                ],\n",
        "                is_open=True,\n",
        "            ),\n",
        "        ],\n",
        "        runset_settings=ws.RunsetSettings(\n",
        "            order=[ws.Ordering(ws.Metric(\"val_loss\"))]\n",
        "        )\n",
        "    )\n",
        "    workspace.save()\n",
        "    print(\"Workspace with sorted runs saved.\")\n",
        "\n",
        "example_06(entity, project)"
      ],
      "metadata": {
        "id": "UbIqEPtJdFR5"
      },
      "execution_count": null,
      "outputs": []
    },
    {
      "cell_type": "markdown",
      "source": [
        "# Putting it all together: creating and editing a custom Workspace\n",
        "\n",
        "* **Purpose**: Demonstrates how to create a comprehensive workspace, configure its settings, and add panels to sections.\n",
        "* **Benefit**: Provides a complete example of setting up and customizing a workspace programmatically."
      ],
      "metadata": {
        "id": "3BwWS8b_QpMI"
      }
    },
    {
      "cell_type": "code",
      "source": [
        "def example_08(entity, project):\n",
        "    # Get all runs in the project\n",
        "    runs = wandb.Api().runs(f\"{entity}/{project}\")\n",
        "\n",
        "    # Dynamically assign colors to the runs and create run settings\n",
        "    run_colors = ['red', 'blue', 'green', 'orange', 'purple', 'teal', 'magenta', '#FAC13C']\n",
        "    run_settings = {}\n",
        "    for i, run in enumerate(runs):\n",
        "        run_settings[run.id] = ws.RunSettings(color=run_colors[i % len(run_colors)], disabled=False)\n",
        "\n",
        "    workspace = ws.Workspace(\n",
        "        name=\"My Workspace Template\",\n",
        "        entity=entity,\n",
        "        project=project,\n",
        "        sections=[\n",
        "            ws.Section(\n",
        "                name=\"Main Metrics\",\n",
        "                panels=[\n",
        "                    wr.LinePlot(x=\"Step\", y=[\"val_loss\"]),\n",
        "                    wr.LinePlot(x=\"Step\", y=[\"val_accuracy\"]),\n",
        "                    wr.ScalarChart(metric=\"f1_score\", groupby_aggfunc=\"mean\"),\n",
        "                ],\n",
        "                is_open=True,\n",
        "            ),\n",
        "            ws.Section(\n",
        "                name=\"Additional Metrics\",\n",
        "                panels=[\n",
        "                    wr.ScalarChart(metric=\"precision\", groupby_aggfunc=\"mean\"),\n",
        "                    wr.ScalarChart(metric=\"recall\", groupby_aggfunc=\"mean\"),\n",
        "                ],\n",
        "            ),\n",
        "        ],\n",
        "        settings=ws.WorkspaceSettings(\n",
        "            x_axis=\"Step\",\n",
        "            x_min=0,\n",
        "            x_max=100,\n",
        "            smoothing_type=\"none\",\n",
        "            smoothing_weight=0,\n",
        "            ignore_outliers=False,\n",
        "            remove_legends_from_panels=False,\n",
        "            tooltip_number_of_runs=\"default\",\n",
        "            tooltip_color_run_names=True,\n",
        "            max_runs=20,\n",
        "            point_visualization_method=\"bucketing\",\n",
        "            auto_expand_panel_search_results=False,\n",
        "        ),\n",
        "        runset_settings=ws.RunsetSettings(\n",
        "            query=\"\",\n",
        "            regex_query=False,\n",
        "            filters=[\n",
        "                ws.Metric(\"val_loss\") < 1,\n",
        "                ws.Metric(\"Name\") == \"sample_run\",\n",
        "            ],\n",
        "            groupby=[ws.Metric(\"Name\")],\n",
        "            order=[ws.Ordering(ws.Metric(\"Step\"), ascending=True)],\n",
        "            run_settings=run_settings\n",
        "        )\n",
        "    )\n",
        "    workspace.save()\n",
        "    print(\"Workspace created and saved.\")\n",
        "\n",
        "example_08(entity, project)"
      ],
      "metadata": {
        "id": "aztgJmIPdVBl"
      },
      "execution_count": null,
      "outputs": []
    }
  ]
}