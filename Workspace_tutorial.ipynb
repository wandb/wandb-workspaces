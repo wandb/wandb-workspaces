{
  "nbformat": 4,
  "nbformat_minor": 0,
  "metadata": {
    "colab": {
      "provenance": [],
      "collapsed_sections": [
        "o3NsLMqUQnOF"
      ],
      "authorship_tag": "ABX9TyP2go6OdcX5Wr3MBoS8+AKV",
      "include_colab_link": true
    },
    "kernelspec": {
      "name": "python3",
      "display_name": "Python 3"
    },
    "language_info": {
      "name": "python"
    }
  },
  "cells": [
    {
      "cell_type": "markdown",
      "metadata": {
        "id": "view-in-github",
        "colab_type": "text"
      },
      "source": [
        "<a href=\"https://colab.research.google.com/github/wandb/wandb-workspaces/blob/example-notebook/Workspace_tutorial.ipynb\" target=\"_parent\"><img src=\"https://colab.research.google.com/assets/colab-badge.svg\" alt=\"Open In Colab\"/></a>"
      ]
    },
    {
      "cell_type": "markdown",
      "source": [],
      "metadata": {
        "id": "po7Xf9qF5Aem"
      }
    },
    {
      "cell_type": "markdown",
      "source": [
        "\n",
        "# Sample Notebook for [Weights & Biases Programmatic Workspace](https://docs.wandb.ai/guides/app/pages/workspaces#saved-workspace-views)\n",
        "\n",
        "\n",
        "### Overview\n",
        "* [wandb-workspaces](https://github.com/wandb/wandb-workspaces/tree/main) is a Python library for programmatically working with Weights & Biases workspaces and Reports. You can define a workspace programmatically by defining the workspace's properties, such as its name, associated entity and project, and the sections it should contain.\n",
        "\n",
        "* Programmatically create and customize workspaces by defining configurations, setting panel layouts, and organizing sections. Load and modify workspaces via URL, filter and group runs using expressions, and customize run appearances. Easily copy views across workspaces for integration.\n",
        "\n",
        "### Known limitations\n",
        "* Only compatible with Saved Views (URLs ending with ?nw=...). Clone a `Personal Workspace` as `Saved Views` for programmatic interaction.\n",
        "\n",
        "### Notebook Instructions:\n",
        "\n",
        "* Run each cell step by step. The notebook will log sample data to a project named `workspace-api-example`.\n",
        "* The notebook will create the project, log sample a to it, and then demonstrate the workspace examples using this data."
      ],
      "metadata": {
        "id": "MmxL0wjvrNtQ"
      }
    },
    {
      "cell_type": "markdown",
      "source": [
        "# Install and Import Dependencies"
      ],
      "metadata": {
        "id": "X6AencUCi19a"
      }
    },
    {
      "cell_type": "code",
      "source": [
        "# Install dependencies\n",
        "\n",
        "!pip install wandb wandb-workspaces\n",
        "!add-apt-repository ppa:longsleep/golang-backports -y\n",
        "!apt update\n",
        "!apt install golang-go"
      ],
      "metadata": {
        "colab": {
          "base_uri": "https://localhost:8080/"
        },
        "id": "99KU0ZiY4t36",
        "outputId": "b36f479c-9f21-4267-a4bc-934b3d677240"
      },
      "execution_count": 1,
      "outputs": [
        {
          "output_type": "stream",
          "name": "stdout",
          "text": [
            "Collecting wandb\n",
            "  Downloading wandb-0.17.3-py3-none-manylinux_2_5_x86_64.manylinux1_x86_64.manylinux_2_17_x86_64.manylinux2014_x86_64.whl (6.9 MB)\n",
            "\u001b[2K     \u001b[90m━━━━━━━━━━━━━━━━━━━━━━━━━━━━━━━━━━━━━━━━\u001b[0m \u001b[32m6.9/6.9 MB\u001b[0m \u001b[31m34.3 MB/s\u001b[0m eta \u001b[36m0:00:00\u001b[0m\n",
            "\u001b[?25hCollecting wandb-workspaces\n",
            "  Downloading wandb_workspaces-0.1.7-py3-none-any.whl (76 kB)\n",
            "\u001b[2K     \u001b[90m━━━━━━━━━━━━━━━━━━━━━━━━━━━━━━━━━━━━━━━━\u001b[0m \u001b[32m76.3/76.3 kB\u001b[0m \u001b[31m7.9 MB/s\u001b[0m eta \u001b[36m0:00:00\u001b[0m\n",
            "\u001b[?25hRequirement already satisfied: click!=8.0.0,>=7.1 in /usr/local/lib/python3.10/dist-packages (from wandb) (8.1.7)\n",
            "Collecting docker-pycreds>=0.4.0 (from wandb)\n",
            "  Downloading docker_pycreds-0.4.0-py2.py3-none-any.whl (9.0 kB)\n",
            "Collecting gitpython!=3.1.29,>=1.0.0 (from wandb)\n",
            "  Downloading GitPython-3.1.43-py3-none-any.whl (207 kB)\n",
            "\u001b[2K     \u001b[90m━━━━━━━━━━━━━━━━━━━━━━━━━━━━━━━━━━━━━━━━\u001b[0m \u001b[32m207.3/207.3 kB\u001b[0m \u001b[31m18.1 MB/s\u001b[0m eta \u001b[36m0:00:00\u001b[0m\n",
            "\u001b[?25hRequirement already satisfied: platformdirs in /usr/local/lib/python3.10/dist-packages (from wandb) (4.2.2)\n",
            "Requirement already satisfied: protobuf!=4.21.0,<6,>=3.19.0 in /usr/local/lib/python3.10/dist-packages (from wandb) (3.20.3)\n",
            "Requirement already satisfied: psutil>=5.0.0 in /usr/local/lib/python3.10/dist-packages (from wandb) (5.9.5)\n",
            "Requirement already satisfied: pyyaml in /usr/local/lib/python3.10/dist-packages (from wandb) (6.0.1)\n",
            "Requirement already satisfied: requests<3,>=2.0.0 in /usr/local/lib/python3.10/dist-packages (from wandb) (2.31.0)\n",
            "Collecting sentry-sdk>=1.0.0 (from wandb)\n",
            "  Downloading sentry_sdk-2.7.1-py2.py3-none-any.whl (300 kB)\n",
            "\u001b[2K     \u001b[90m━━━━━━━━━━━━━━━━━━━━━━━━━━━━━━━━━━━━━━━━\u001b[0m \u001b[32m300.2/300.2 kB\u001b[0m \u001b[31m23.6 MB/s\u001b[0m eta \u001b[36m0:00:00\u001b[0m\n",
            "\u001b[?25hCollecting setproctitle (from wandb)\n",
            "  Downloading setproctitle-1.3.3-cp310-cp310-manylinux_2_5_x86_64.manylinux1_x86_64.manylinux_2_17_x86_64.manylinux2014_x86_64.whl (30 kB)\n",
            "Requirement already satisfied: setuptools in /usr/local/lib/python3.10/dist-packages (from wandb) (67.7.2)\n",
            "Requirement already satisfied: pydantic>=2.7 in /usr/local/lib/python3.10/dist-packages (from wandb-workspaces) (2.7.4)\n",
            "Requirement already satisfied: six>=1.4.0 in /usr/local/lib/python3.10/dist-packages (from docker-pycreds>=0.4.0->wandb) (1.16.0)\n",
            "Collecting gitdb<5,>=4.0.1 (from gitpython!=3.1.29,>=1.0.0->wandb)\n",
            "  Downloading gitdb-4.0.11-py3-none-any.whl (62 kB)\n",
            "\u001b[2K     \u001b[90m━━━━━━━━━━━━━━━━━━━━━━━━━━━━━━━━━━━━━━━━\u001b[0m \u001b[32m62.7/62.7 kB\u001b[0m \u001b[31m6.8 MB/s\u001b[0m eta \u001b[36m0:00:00\u001b[0m\n",
            "\u001b[?25hRequirement already satisfied: annotated-types>=0.4.0 in /usr/local/lib/python3.10/dist-packages (from pydantic>=2.7->wandb-workspaces) (0.7.0)\n",
            "Requirement already satisfied: pydantic-core==2.18.4 in /usr/local/lib/python3.10/dist-packages (from pydantic>=2.7->wandb-workspaces) (2.18.4)\n",
            "Requirement already satisfied: typing-extensions>=4.6.1 in /usr/local/lib/python3.10/dist-packages (from pydantic>=2.7->wandb-workspaces) (4.12.2)\n",
            "Requirement already satisfied: charset-normalizer<4,>=2 in /usr/local/lib/python3.10/dist-packages (from requests<3,>=2.0.0->wandb) (3.3.2)\n",
            "Requirement already satisfied: idna<4,>=2.5 in /usr/local/lib/python3.10/dist-packages (from requests<3,>=2.0.0->wandb) (3.7)\n",
            "Requirement already satisfied: urllib3<3,>=1.21.1 in /usr/local/lib/python3.10/dist-packages (from requests<3,>=2.0.0->wandb) (2.0.7)\n",
            "Requirement already satisfied: certifi>=2017.4.17 in /usr/local/lib/python3.10/dist-packages (from requests<3,>=2.0.0->wandb) (2024.6.2)\n",
            "Collecting smmap<6,>=3.0.1 (from gitdb<5,>=4.0.1->gitpython!=3.1.29,>=1.0.0->wandb)\n",
            "  Downloading smmap-5.0.1-py3-none-any.whl (24 kB)\n",
            "Installing collected packages: smmap, setproctitle, sentry-sdk, docker-pycreds, gitdb, gitpython, wandb, wandb-workspaces\n",
            "Successfully installed docker-pycreds-0.4.0 gitdb-4.0.11 gitpython-3.1.43 sentry-sdk-2.7.1 setproctitle-1.3.3 smmap-5.0.1 wandb-0.17.3 wandb-workspaces-0.1.7\n",
            "Repository: 'deb https://ppa.launchpadcontent.net/longsleep/golang-backports/ubuntu/ jammy main'\n",
            "Description:\n",
            "Golang 1.12, 1.13, 1.14, 1.15, 1.16, 1.17, 1.18, 1.19, 1.20, 1.21 and 1.22 PPA for Ubuntu\n",
            "\n",
            "See https://github.com/longsleep/golang-deb for the sources for the packages in this PPA and for reporting issues / change requests.\n",
            "More info: https://launchpad.net/~longsleep/+archive/ubuntu/golang-backports\n",
            "Adding repository.\n",
            "Adding deb entry to /etc/apt/sources.list.d/longsleep-ubuntu-golang-backports-jammy.list\n",
            "Adding disabled deb-src entry to /etc/apt/sources.list.d/longsleep-ubuntu-golang-backports-jammy.list\n",
            "Adding key to /etc/apt/trusted.gpg.d/longsleep-ubuntu-golang-backports.gpg with fingerprint 52B59B1571A79DBC054901C0F6BC817356A3D45E\n",
            "Hit:1 http://archive.ubuntu.com/ubuntu jammy InRelease\n",
            "Get:2 http://archive.ubuntu.com/ubuntu jammy-updates InRelease [128 kB]\n",
            "Get:3 https://cloud.r-project.org/bin/linux/ubuntu jammy-cran40/ InRelease [3,626 B]\n",
            "Get:4 https://developer.download.nvidia.com/compute/cuda/repos/ubuntu2204/x86_64  InRelease [1,581 B]\n",
            "Get:5 http://security.ubuntu.com/ubuntu jammy-security InRelease [129 kB]\n",
            "Hit:6 http://archive.ubuntu.com/ubuntu jammy-backports InRelease\n",
            "Hit:7 https://ppa.launchpadcontent.net/c2d4u.team/c2d4u4.0+/ubuntu jammy InRelease\n",
            "Hit:8 https://ppa.launchpadcontent.net/deadsnakes/ppa/ubuntu jammy InRelease\n",
            "Get:9 https://developer.download.nvidia.com/compute/cuda/repos/ubuntu2204/x86_64  Packages [970 kB]\n",
            "Hit:10 https://ppa.launchpadcontent.net/graphics-drivers/ppa/ubuntu jammy InRelease\n",
            "Get:11 http://archive.ubuntu.com/ubuntu jammy-updates/universe amd64 Packages [1,403 kB]\n",
            "Get:12 https://ppa.launchpadcontent.net/longsleep/golang-backports/ubuntu jammy InRelease [18.3 kB]\n",
            "Get:13 http://archive.ubuntu.com/ubuntu jammy-updates/main amd64 Packages [2,255 kB]\n",
            "Get:14 http://archive.ubuntu.com/ubuntu jammy-updates/restricted amd64 Packages [2,659 kB]\n",
            "Hit:15 https://ppa.launchpadcontent.net/ubuntugis/ppa/ubuntu jammy InRelease\n",
            "Get:16 http://security.ubuntu.com/ubuntu jammy-security/main amd64 Packages [1,988 kB]\n",
            "Get:17 https://ppa.launchpadcontent.net/longsleep/golang-backports/ubuntu jammy/main amd64 Packages [6,138 B]\n",
            "Get:18 http://security.ubuntu.com/ubuntu jammy-security/restricted amd64 Packages [2,580 kB]\n",
            "Get:19 http://security.ubuntu.com/ubuntu jammy-security/universe amd64 Packages [1,119 kB]\n",
            "Fetched 13.3 MB in 2s (5,450 kB/s)\n",
            "Reading package lists... Done\n",
            "Hit:1 http://security.ubuntu.com/ubuntu jammy-security InRelease\n",
            "Hit:2 https://cloud.r-project.org/bin/linux/ubuntu jammy-cran40/ InRelease\n",
            "Hit:3 https://developer.download.nvidia.com/compute/cuda/repos/ubuntu2204/x86_64  InRelease\n",
            "Hit:4 http://archive.ubuntu.com/ubuntu jammy InRelease\n",
            "Hit:5 http://archive.ubuntu.com/ubuntu jammy-updates InRelease\n",
            "Hit:6 http://archive.ubuntu.com/ubuntu jammy-backports InRelease\n",
            "Hit:7 https://ppa.launchpadcontent.net/c2d4u.team/c2d4u4.0+/ubuntu jammy InRelease\n",
            "Hit:8 https://ppa.launchpadcontent.net/deadsnakes/ppa/ubuntu jammy InRelease\n",
            "Hit:9 https://ppa.launchpadcontent.net/graphics-drivers/ppa/ubuntu jammy InRelease\n",
            "Hit:10 https://ppa.launchpadcontent.net/longsleep/golang-backports/ubuntu jammy InRelease\n",
            "Hit:11 https://ppa.launchpadcontent.net/ubuntugis/ppa/ubuntu jammy InRelease\n",
            "Reading package lists... Done\n",
            "Building dependency tree... Done\n",
            "Reading state information... Done\n",
            "46 packages can be upgraded. Run 'apt list --upgradable' to see them.\n",
            "Reading package lists... Done\n",
            "Building dependency tree... Done\n",
            "Reading state information... Done\n",
            "The following additional packages will be installed:\n",
            "  golang-1.22-go golang-1.22-src golang-src\n",
            "Suggested packages:\n",
            "  bzr | brz mercurial subversion\n",
            "The following NEW packages will be installed:\n",
            "  golang-1.22-go golang-1.22-src golang-go golang-src\n",
            "0 upgraded, 4 newly installed, 0 to remove and 46 not upgraded.\n",
            "Need to get 43.7 MB of archives.\n",
            "After this operation, 228 MB of additional disk space will be used.\n",
            "Get:1 https://ppa.launchpadcontent.net/longsleep/golang-backports/ubuntu jammy/main amd64 golang-1.22-src all 1.22.4-1longsleep1+focal [18.9 MB]\n",
            "Get:2 https://ppa.launchpadcontent.net/longsleep/golang-backports/ubuntu jammy/main amd64 golang-1.22-go amd64 1.22.4-1longsleep1+focal [24.7 MB]\n",
            "Get:3 https://ppa.launchpadcontent.net/longsleep/golang-backports/ubuntu jammy/main amd64 golang-src all 2:1.22~3longsleep1 [6,160 B]\n",
            "Get:4 https://ppa.launchpadcontent.net/longsleep/golang-backports/ubuntu jammy/main amd64 golang-go amd64 2:1.22~3longsleep1 [45.4 kB]\n",
            "Fetched 43.7 MB in 2s (17.6 MB/s)\n",
            "Selecting previously unselected package golang-1.22-src.\n",
            "(Reading database ... 121925 files and directories currently installed.)\n",
            "Preparing to unpack .../golang-1.22-src_1.22.4-1longsleep1+focal_all.deb ...\n",
            "Unpacking golang-1.22-src (1.22.4-1longsleep1+focal) ...\n",
            "Selecting previously unselected package golang-1.22-go.\n",
            "Preparing to unpack .../golang-1.22-go_1.22.4-1longsleep1+focal_amd64.deb ...\n",
            "Unpacking golang-1.22-go (1.22.4-1longsleep1+focal) ...\n",
            "Selecting previously unselected package golang-src.\n",
            "Preparing to unpack .../golang-src_2%3a1.22~3longsleep1_all.deb ...\n",
            "Unpacking golang-src (2:1.22~3longsleep1) ...\n",
            "Selecting previously unselected package golang-go:amd64.\n",
            "Preparing to unpack .../golang-go_2%3a1.22~3longsleep1_amd64.deb ...\n",
            "Unpacking golang-go:amd64 (2:1.22~3longsleep1) ...\n",
            "Setting up golang-1.22-src (1.22.4-1longsleep1+focal) ...\n",
            "Setting up golang-src (2:1.22~3longsleep1) ...\n",
            "Setting up golang-1.22-go (1.22.4-1longsleep1+focal) ...\n",
            "Setting up golang-go:amd64 (2:1.22~3longsleep1) ...\n",
            "Processing triggers for man-db (2.10.2-1) ...\n"
          ]
        }
      ]
    },
    {
      "cell_type": "code",
      "source": [
        "# makes formatting nicer (you might want to use dark mode on colab)\n",
        "%load_ext rich"
      ],
      "metadata": {
        "id": "0itfrwoY56Ue"
      },
      "execution_count": 2,
      "outputs": []
    },
    {
      "cell_type": "code",
      "source": [
        "# Import dependencies\n",
        "\n",
        "import os\n",
        "import wandb\n",
        "import wandb_workspaces.workspaces as ws\n",
        "import wandb_workspaces.reports.v2 as wr # We use the Reports API panels"
      ],
      "metadata": {
        "id": "IQigRhck4zbF"
      },
      "execution_count": 3,
      "outputs": []
    },
    {
      "cell_type": "markdown",
      "source": [
        "# Create a Project to interact with programmatically"
      ],
      "metadata": {
        "id": "1CAls6JljDFo"
      }
    },
    {
      "cell_type": "code",
      "source": [
        "# Initialize Weights & Biases and Login\n",
        "wandb.login()\n",
        "\n",
        "# Function to create a new project and log sample data\n",
        "def create_project_and_log_data():\n",
        "    project = \"workspace-api-example\"  # Default project name\n",
        "\n",
        "    # Initialize a run to log some sample data\n",
        "    with wandb.init(project=project, name=\"sample_run\") as run:\n",
        "        for step in range(100):\n",
        "            wandb.log({\n",
        "                \"Step\": step,\n",
        "                \"val_loss\": 1.0 / (step + 1),\n",
        "                \"val_accuracy\": step / 100.0,\n",
        "                \"train_loss\": 1.0 / (step + 2),\n",
        "                \"train_accuracy\": step / 110.0,\n",
        "                \"f1_score\": step / 100.0,\n",
        "                \"recall\": step / 120.0,\n",
        "            })\n",
        "    return project\n",
        "\n",
        "# Create a new project and log data\n",
        "project = create_project_and_log_data()\n",
        "entity = wandb.Api().default_entity"
      ],
      "metadata": {
        "colab": {
          "base_uri": "https://localhost:8080/"
        },
        "id": "rApkZmZB9Ueg",
        "outputId": "d9626db9-da0a-4a97-fbb0-1100386cd956"
      },
      "execution_count": 29,
      "outputs": [
        {
          "output_type": "stream",
          "name": "stderr",
          "text": [
            "\u001b[34m\u001b[1mwandb\u001b[0m: View saved: https://wandb.ai/wandb/workspace-api-example?nw=n58kg16c17n\n"
          ]
        },
        {
          "output_type": "stream",
          "name": "stdout",
          "text": [
            "Workspace 04 with advanced filters saved.\n"
          ]
        }
      ]
    },
    {
      "cell_type": "markdown",
      "source": [
        "# Summary of Programmatic Workspace features:\n",
        "The Weights & Biases Workspace API allows you to create, manage, and customize workspaces programmatically. These capabilities are designed to help you organize and visualize your machine learning experiments more effectively.\n",
        "\n",
        "\n",
        "### 1. Workspace Creation\n",
        "* **Define Create Workspaces:** You can create a workspace with a specific\n",
        "name, associate it with a project, and organize it into sections.\n",
        "* **Customization:** Customize each workspace with settings such as axis configurations, smoothing types, outlier handling, and more.\n",
        "\n",
        "### 2. Sections and Panels\n",
        "* **Sections:** Organize your workspace into multiple sections, each containing a specific set of panels. Sections can be opened or closed based on your preference.\n",
        "* **Panels:** Add various types of panels such as line plots, bar plots, and scalar charts to visualize different metrics.\n",
        "* **Layouts:** Customize the layout of panels within each section using standard or custom grid layouts.\n",
        "\n",
        "### 3. Workspace Settings\n",
        "* **Global Settings:** Configure global settings for the workspace, including axis settings, smoothing options, outlier handling, and tooltip settings.\n",
        "* **Section and Panel Settings:** Override global settings at the section or panel level to provide more granular control over the visualization.\n",
        "\n",
        "### 4. Run Management\n",
        "* **Run Sets:** Manage sets of runs in the workspace. Apply filters to include or exclude specific runs based on metrics or metadata.\n",
        "* **Grouping and Ordering:** Group and order runs within the run set to better analyze and compare different experiments.\n",
        "* **Run Customization:** Customize individual run settings such as color and visibility within the workspace..\n",
        "\n",
        "### 5. Filters and Queries\n",
        "* **Filter Expressions:** Apply complex filter expressions to include or exclude runs based on specific criteria.\n",
        "* **Regex Queries:** Use regular expressions to search and filter runs within the workspace.\n",
        "\n",
        "### 6. Saving and Loading Workspaces\n",
        "* **Save Workspaces:** Save the current state of a workspace, making it accessible as a `Saved view` from the Project.\n",
        "* **Load Workspaces:** Load an existing workspace from a URL to review or modify it.\n",
        "* **Clone Workspaces:** Save a modified workspace as a new view, allowing you to create multiple versions of a workspace without affecting the original."
      ],
      "metadata": {
        "id": "E7WAoOlsiQTL"
      }
    },
    {
      "cell_type": "code",
      "source": [
        "# See all available settings for workspaces, sections, and panels.\n",
        "all_settings_objects = [x for x in dir(ws) if isinstance(getattr(ws, x), type)]\n",
        "all_settings_objects"
      ],
      "metadata": {
        "colab": {
          "base_uri": "https://localhost:8080/",
          "height": 277
        },
        "id": "irVaxJ289yMa",
        "outputId": "fc860d89-f387-4987-c9ec-9e4a4cb5064a"
      },
      "execution_count": 47,
      "outputs": [
        {
          "output_type": "display_data",
          "data": {
            "text/plain": [],
            "text/html": [
              "<pre style=\"white-space:pre;overflow-x:auto;line-height:normal;font-family:Menlo,'DejaVu Sans Mono',consolas,'Courier New',monospace\"></pre>\n"
            ]
          },
          "metadata": {}
        },
        {
          "output_type": "execute_result",
          "data": {
            "text/plain": [
              "\n",
              "\u001b[1m[\u001b[0m\n",
              "    \u001b[32m'Config'\u001b[0m,\n",
              "    \u001b[32m'Metric'\u001b[0m,\n",
              "    \u001b[32m'Ordering'\u001b[0m,\n",
              "    \u001b[32m'RunSettings'\u001b[0m,\n",
              "    \u001b[32m'RunsetSettings'\u001b[0m,\n",
              "    \u001b[32m'Section'\u001b[0m,\n",
              "    \u001b[32m'SectionLayoutSettings'\u001b[0m,\n",
              "    \u001b[32m'SectionPanelSettings'\u001b[0m,\n",
              "    \u001b[32m'Summary'\u001b[0m,\n",
              "    \u001b[32m'Tags'\u001b[0m,\n",
              "    \u001b[32m'Workspace'\u001b[0m,\n",
              "    \u001b[32m'WorkspaceSettings'\u001b[0m\n",
              "\u001b[1m]\u001b[0m"
            ]
          },
          "metadata": {},
          "execution_count": 47
        }
      ]
    },
    {
      "cell_type": "markdown",
      "source": [
        "# Run example 00: Creating a Workspace `Saved View` with Sections and Panels\n",
        "\n",
        "* **Purpose:** Demonstrates how to create a new workspace and populate it with sections and panels.\n",
        "* **Benefit:** Helps users organize and visualize their project metrics in a structured manner.\n",
        "\n"
      ],
      "metadata": {
        "id": "kHD8tEjEPqjL"
      }
    },
    {
      "cell_type": "code",
      "source": [
        "\n",
        "def example_00(entity, project):\n",
        "    workspace = ws.Workspace(\n",
        "        name=\"Example W&B Workspace\",\n",
        "        entity=entity,\n",
        "        project=project,\n",
        "        sections=[\n",
        "            ws.Section(\n",
        "                name=\"Validation Metrics\",\n",
        "                panels=[\n",
        "                    wr.LinePlot(x=\"Step\", y=[\"val_loss\"]),\n",
        "                    wr.BarPlot(metrics=[\"val_accuracy\"]),\n",
        "                    wr.ScalarChart(metric=\"f1_score\", groupby_aggfunc=\"mean\"),\n",
        "                ],\n",
        "                is_open=True,\n",
        "            ),\n",
        "        ],\n",
        "    )\n",
        "    workspace.save()\n",
        "    print(\"Sample Workspace saved. Click the link above to open the new workspace.\")\n",
        "    return workspace.url\n",
        "\n",
        "workspace_url = example_00(entity, project)"
      ],
      "metadata": {
        "colab": {
          "base_uri": "https://localhost:8080/"
        },
        "id": "sWmN5lNJB-pH",
        "outputId": "d18a2318-212d-4241-8fe3-2c0fee6f5083"
      },
      "execution_count": 8,
      "outputs": [
        {
          "output_type": "stream",
          "name": "stderr",
          "text": [
            "\u001b[34m\u001b[1mwandb\u001b[0m: View saved: https://wandb.ai/wandb/workspace-api-example?nw=nn0l18os3zw\n"
          ]
        },
        {
          "output_type": "stream",
          "name": "stdout",
          "text": [
            "Sample Workspace saved.\n"
          ]
        }
      ]
    },
    {
      "cell_type": "markdown",
      "source": [
        "# Run example 01: Loading and Cloning\n",
        "* **Purpose:** Demonstrates how to load an existing workspace, modify it, and save it as a new view.\n",
        "* **Benefit:** Allows users to duplicate and customize workspaces without affecting the original setup."
      ],
      "metadata": {
        "id": "SIIcxNVSQXmu"
      }
    },
    {
      "cell_type": "code",
      "source": [
        "def example_01(url):\n",
        "    workspace = ws.Workspace.from_url(url)\n",
        "    workspace.name = \"Updated Workspace Name\"\n",
        "    workspace.save()\n",
        "    print(\"Workspace 01 updated and saved.\")\n",
        "\n",
        "    new_url = workspace.save_as_new_view()\n",
        "    print(f\"Workspace saved as new view. New URL: {new_url}\")\n",
        "\n",
        "example_01(workspace_url)"
      ],
      "metadata": {
        "colab": {
          "base_uri": "https://localhost:8080/"
        },
        "id": "_gWiaq_r9xIM",
        "outputId": "a3b9836b-a10b-49de-8194-11cd176f9090"
      },
      "execution_count": 51,
      "outputs": [
        {
          "output_type": "stream",
          "name": "stderr",
          "text": [
            "\u001b[34m\u001b[1mwandb\u001b[0m: View saved: https://wandb.ai/wandb/workspace-api-example?nw=nn0l18os3zw\n",
            "\u001b[34m\u001b[1mwandb\u001b[0m: View saved: https://wandb.ai/wandb/workspace-api-example?nw=zgnt0n9y5zh\n"
          ]
        },
        {
          "output_type": "stream",
          "name": "stdout",
          "text": [
            "Workspace 01 updated and saved.\n",
            "Workspace saved as new view. New URL: Workspace(entity='wandb', project='workspace-api-example', name='Updated Workspace Name', sections=[Section(name='Validation Metrics', panels=[LinePlot(layout=Layout(x=0, y=0, w=8, h=6), x=Metric(name='Step'), y=[Metric(name='val_loss')]), BarPlot(layout=Layout(x=0, y=0, w=8, h=6), metrics=[Metric(name='val_accuracy')], orientation='h'), ScalarChart(layout=Layout(x=0, y=0, w=8, h=6), metric=Metric(name='f1_score'), groupby_aggfunc='mean')], is_open=True, layout_settings=SectionLayoutSettings(layout='standard', columns=3, rows=2), panel_settings=SectionPanelSettings(x_axis='Step', x_min=None, x_max=None, smoothing_type='none', smoothing_weight=0)), Section(name='System', panels=[], is_open=False, layout_settings=SectionLayoutSettings(layout='standard', columns=3, rows=2), panel_settings=SectionPanelSettings(x_axis='Step', x_min=None, x_max=None, smoothing_type='none', smoothing_weight=0)), Section(name='Hidden Panels', panels=[], is_open=False, layout_settings=SectionLayoutSettings(layout='standard', columns=3, rows=2), panel_settings=SectionPanelSettings(x_axis='Step', x_min=None, x_max=None, smoothing_type='none', smoothing_weight=0)), Section(name='Charts', panels=[], is_open=False, layout_settings=SectionLayoutSettings(layout='standard', columns=3, rows=2), panel_settings=SectionPanelSettings(x_axis='Step', x_min=None, x_max=None, smoothing_type='none', smoothing_weight=0))], settings=WorkspaceSettings(x_axis='Step', x_min=None, x_max=None, smoothing_type='none', smoothing_weight=0, ignore_outliers=False, remove_legends_from_panels=False, tooltip_number_of_runs='default', tooltip_color_run_names=True, max_runs=10, point_visualization_method='bucketing', panel_search_query='', auto_expand_panel_search_results=False), runset_settings=RunsetSettings(query='', regex_query=False, filters=[], groupby=[], order=[], run_settings={}))\n"
          ]
        }
      ]
    },
    {
      "cell_type": "markdown",
      "source": [
        "# Run example 02: Basic Settings\n",
        "\n",
        "* **Purpose:** Demonstrates how to create a workspace, add sections with panels, and configure settings for the workspace and individual panels.\n",
        "* **Benefit:** Provides users with the ability to customize their workspace layout and visualization settings.\n"
      ],
      "metadata": {
        "id": "o3NsLMqUQnOF"
      }
    },
    {
      "cell_type": "code",
      "source": [
        "def example_02(entity, project):\n",
        "    workspace = ws.Workspace(name=\"An example workspace\", entity=entity, project=project)\n",
        "    workspace.sections = [\n",
        "        ws.Section(\n",
        "            name=\"Validation\",\n",
        "            panels=[\n",
        "                wr.LinePlot(x=\"Step\", y=[\"val_loss\"]),\n",
        "                wr.LinePlot(x=\"Step\", y=[\"val_accuracy\"]),\n",
        "                wr.ScalarChart(metric=\"f1_score\", groupby_aggfunc=\"mean\"),\n",
        "                wr.ScalarChart(metric=\"recall\", groupby_aggfunc=\"mean\"),\n",
        "            ],\n",
        "            is_open=True,\n",
        "        ),\n",
        "        ws.Section(\n",
        "            name=\"Training\",\n",
        "            panels=[\n",
        "                wr.LinePlot(x=\"Step\", y=[\"train_loss\"]),\n",
        "                wr.LinePlot(x=\"Step\", y=[\"train_accuracy\"]),\n",
        "            ],\n",
        "        ),\n",
        "    ]\n",
        "\n",
        "    workspace.settings = ws.WorkspaceSettings(\n",
        "        x_min=0,\n",
        "        x_max=75,\n",
        "        smoothing_type=\"gaussian\",\n",
        "        point_visualization_method=\"bucketing\",\n",
        "    )\n",
        "\n",
        "    section = workspace.sections[0]\n",
        "    section.panel_settings = ws.SectionPanelSettings(\n",
        "        x_min=25,\n",
        "        x_max=50,\n",
        "        smoothing_type=\"none\",\n",
        "    )\n",
        "\n",
        "    panel = section.panels[0]\n",
        "    panel.title = \"Validation Loss Custom Title\"\n",
        "    panel.title_x = \"Custom x-axis title\"\n",
        "\n",
        "    workspace.save()\n",
        "    print(\"Workspace with custom settings saved.\")\n",
        "\n",
        "example_02(entity, project)"
      ],
      "metadata": {
        "colab": {
          "base_uri": "https://localhost:8080/"
        },
        "id": "Jeo-2lqMSKR5",
        "outputId": "2bd1780c-8f23-4e6c-c04b-65c8329962cc"
      },
      "execution_count": 52,
      "outputs": [
        {
          "output_type": "stream",
          "name": "stderr",
          "text": [
            "\u001b[34m\u001b[1mwandb\u001b[0m: View saved: https://wandb.ai/wandb/workspace-api-example?nw=481gsorntxs\n"
          ]
        },
        {
          "output_type": "stream",
          "name": "stdout",
          "text": [
            "Workspace with custom settings saved.\n"
          ]
        }
      ]
    },
    {
      "cell_type": "markdown",
      "source": [
        "# Example 03: Using Filters\n",
        "\n",
        "* **Purpose**: Demonstrates how to use runs filter within a workspace.\n",
        "* **Benefit**: Provides powerful filtering capabilities to focus on run data that match specific patterns."
      ],
      "metadata": {
        "id": "oT54K4DLQos-"
      }
    },
    {
      "cell_type": "code",
      "source": [
        "def example_03(entity, project):\n",
        "    # Get all runs in the project\n",
        "    runs = wandb.Api().runs(f\"{entity}/{project}\")\n",
        "\n",
        "    # Apply multiple filters: val_loss < 0.1, val_accuracy > 0.8, and run name matches regex pattern\n",
        "    workspace = ws.Workspace(\n",
        "        name=\"Advanced Filtered Workspace with Regex\",\n",
        "        entity=entity,\n",
        "        project=project,\n",
        "        sections=[\n",
        "            ws.Section(\n",
        "                name=\"Advanced Filtered Section\",\n",
        "                panels=[\n",
        "                    wr.LinePlot(x=\"Step\", y=[\"val_loss\"]),\n",
        "                    wr.LinePlot(x=\"Step\", y=[\"val_accuracy\"]),\n",
        "                ],\n",
        "                is_open=True,\n",
        "            ),\n",
        "        ],\n",
        "        runset_settings=ws.RunsetSettings(\n",
        "            filters=[\n",
        "                (ws.Metric(\"val_loss\") < 0.1),  # Filter runs by the 'val_loss' metric\n",
        "                (ws.Metric(\"val_accuracy\") > 0.8),  # Filter runs by the 'val_accuracy' metric\n",
        "                (ws.Metric(\"ID\").isin([run.id for run in wandb.Api().runs(f\"{entity}/{project}\")])),\n",
        "            ],\n",
        "            regex_query=True,\n",
        "        )\n",
        "    )\n",
        "\n",
        "    # Add regex search to match run names starting with 's'\n",
        "    workspace.runset_settings.query = \"^s\"\n",
        "    workspace.runset_settings.regex_query = True\n",
        "\n",
        "    workspace.save()\n",
        "    print(\"Workspace with advanced filters and regex search saved.\")\n",
        "\n",
        "example_03(entity, project)"
      ],
      "metadata": {
        "colab": {
          "base_uri": "https://localhost:8080/"
        },
        "id": "IaBvnHSISobu",
        "outputId": "899f2623-5355-4b9d-f4dc-1e3f0f819abe"
      },
      "execution_count": 53,
      "outputs": [
        {
          "output_type": "stream",
          "name": "stderr",
          "text": [
            "\u001b[34m\u001b[1mwandb\u001b[0m: View saved: https://wandb.ai/wandb/workspace-api-example?nw=vjkxb8y0e71\n"
          ]
        },
        {
          "output_type": "stream",
          "name": "stdout",
          "text": [
            "Workspace with advanced filters and regex search saved.\n"
          ]
        }
      ]
    },
    {
      "cell_type": "markdown",
      "source": [
        "# Example 04: Changing Runs Colors\n",
        "* **Purpose:** Demonstrates how to change the colors of the runs in a workspace.\n",
        "* **Benefit:** Helps users visually distinguish between different runs by assigning unique colors.\n",
        "\n"
      ],
      "metadata": {
        "id": "-boRSciuQo1a"
      }
    },
    {
      "cell_type": "code",
      "source": [
        "def example_04(entity, project):\n",
        "    # Get all runs in the project\n",
        "    runs = wandb.Api().runs(f\"{entity}/{project}\")\n",
        "\n",
        "    # Dynamically assign colors to the runs\n",
        "    run_colors = ['purple', 'orange', 'teal', 'magenta']\n",
        "    run_settings = {}\n",
        "    for i, run in enumerate(runs):\n",
        "        run_settings[run.id] = ws.RunSettings(color=run_colors[i % len(run_colors)])\n",
        "\n",
        "    workspace = ws.Workspace(\n",
        "        name=\"Run Colors Workspace\",\n",
        "        entity=entity,\n",
        "        project=project,\n",
        "        sections=[\n",
        "            ws.Section(\n",
        "                name=\"Run Colors Section\",\n",
        "                panels=[\n",
        "                    wr.LinePlot(x=\"Step\", y=[\"val_loss\"]),\n",
        "                    wr.LinePlot(x=\"Step\", y=[\"val_accuracy\"]),\n",
        "                ],\n",
        "                is_open=True,\n",
        "            ),\n",
        "        ],\n",
        "        runset_settings=ws.RunsetSettings(\n",
        "            run_settings=run_settings\n",
        "        )\n",
        "    )\n",
        "\n",
        "    workspace.save()\n",
        "    print(\"Workspace with run colors saved.\")\n",
        "\n",
        "example_04(entity, project)"
      ],
      "metadata": {
        "colab": {
          "base_uri": "https://localhost:8080/"
        },
        "id": "6JnC9tFKbYgm",
        "outputId": "d2510fe4-65d9-4f54-8e99-edcd3895cc4f"
      },
      "execution_count": 54,
      "outputs": [
        {
          "output_type": "stream",
          "name": "stderr",
          "text": [
            "\u001b[34m\u001b[1mwandb\u001b[0m: View saved: https://wandb.ai/wandb/workspace-api-example?nw=nv7pbt5abfv\n"
          ]
        },
        {
          "output_type": "stream",
          "name": "stdout",
          "text": [
            "Workspace with run colors saved.\n"
          ]
        }
      ]
    },
    {
      "cell_type": "markdown",
      "source": [
        "# Example 05: Grouping Runs\n",
        "\n",
        "* **Purpose**: Demonstrates how to group runs by specific metrics.\n",
        "* **Benefit**: Helps users organize and analyze runs by grouping them based on shared characteristics."
      ],
      "metadata": {
        "id": "09GiaVZCQo9Y"
      }
    },
    {
      "cell_type": "code",
      "source": [
        "def example_05(entity, project):\n",
        "    workspace = ws.Workspace(\n",
        "        name=\"Grouped Runs Workspace\",\n",
        "        entity=entity,\n",
        "        project=project,\n",
        "        sections=[\n",
        "            ws.Section(\n",
        "                name=\"Grouped Runs\",\n",
        "                panels=[\n",
        "                    wr.LinePlot(x=\"Step\", y=[\"val_loss\"]),\n",
        "                    wr.LinePlot(x=\"Step\", y=[\"val_accuracy\"]),\n",
        "                ],\n",
        "                is_open=True,\n",
        "            ),\n",
        "        ],\n",
        "        runset_settings=ws.RunsetSettings(\n",
        "            groupby=[ws.Metric(\"Name\")]\n",
        "        )\n",
        "    )\n",
        "    workspace.save()\n",
        "    print(\"Workspace with grouped runs saved.\")\n",
        "\n",
        "example_05(entity, project)"
      ],
      "metadata": {
        "colab": {
          "base_uri": "https://localhost:8080/"
        },
        "id": "oW4ZSYw5c1L_",
        "outputId": "99bf691e-8e9a-431b-834c-c32dbbb90b92"
      },
      "execution_count": 55,
      "outputs": [
        {
          "output_type": "stream",
          "name": "stderr",
          "text": [
            "\u001b[34m\u001b[1mwandb\u001b[0m: View saved: https://wandb.ai/wandb/workspace-api-example?nw=bqpswqnsdv7\n"
          ]
        },
        {
          "output_type": "stream",
          "name": "stdout",
          "text": [
            "Workspace with grouped runs saved.\n"
          ]
        }
      ]
    },
    {
      "cell_type": "markdown",
      "source": [
        "# Example 06: Sorting Runs\n",
        "\n",
        "* **Purpose**: Demonstrates how to sort runs by specific metrics.\n",
        "* **Benefit**: Allows users to easily identify and focus on the most relevant runs based on their sorting criteria."
      ],
      "metadata": {
        "id": "oKGpIVS_QpE2"
      }
    },
    {
      "cell_type": "code",
      "source": [
        "def example_06(entity, project):\n",
        "    workspace = ws.Workspace(\n",
        "        name=\"Sorted Runs Workspace\",\n",
        "        entity=entity,\n",
        "        project=project,\n",
        "        sections=[\n",
        "            ws.Section(\n",
        "                name=\"Sorted Runs\",\n",
        "                panels=[\n",
        "                    wr.LinePlot(x=\"Step\", y=[\"val_loss\"]),\n",
        "                    wr.LinePlot(x=\"Step\", y=[\"val_accuracy\"]),\n",
        "                ],\n",
        "                is_open=True,\n",
        "            ),\n",
        "        ],\n",
        "        runset_settings=ws.RunsetSettings(\n",
        "            order=[ws.Ordering(ws.Metric(\"val_loss\"))]\n",
        "        )\n",
        "    )\n",
        "    workspace.save()\n",
        "    print(\"Workspace with sorted runs saved.\")\n",
        "\n",
        "example_06(entity, project)"
      ],
      "metadata": {
        "colab": {
          "base_uri": "https://localhost:8080/"
        },
        "id": "UbIqEPtJdFR5",
        "outputId": "abf21ce0-cea0-437c-fafb-16ff1cefaecb"
      },
      "execution_count": 56,
      "outputs": [
        {
          "output_type": "stream",
          "name": "stderr",
          "text": [
            "\u001b[34m\u001b[1mwandb\u001b[0m: View saved: https://wandb.ai/wandb/workspace-api-example?nw=ls0xez4v0z0\n"
          ]
        },
        {
          "output_type": "stream",
          "name": "stdout",
          "text": [
            "Workspace 07 with sorted runs saved.\n"
          ]
        }
      ]
    },
    {
      "cell_type": "markdown",
      "source": [
        "# Example 08: Creating and Editing a Full Workspace\n",
        "\n",
        "* **Purpose**: Demonstrates how to create a comprehensive workspace, configure its settings, and add panels to sections.\n",
        "* **Benefit**: Provides a complete example of setting up and customizing a workspace programmatically."
      ],
      "metadata": {
        "id": "3BwWS8b_QpMI"
      }
    },
    {
      "cell_type": "code",
      "source": [
        "def example_08(entity, project):\n",
        "    # Get all runs in the project\n",
        "    runs = wandb.Api().runs(f\"{entity}/{project}\")\n",
        "\n",
        "    # Dynamically assign colors to the runs and create run settings\n",
        "    run_colors = ['red', 'blue', 'green', 'orange', 'purple', 'teal', 'magenta', '#FAC13C']\n",
        "    run_settings = {}\n",
        "    for i, run in enumerate(runs):\n",
        "        run_settings[run.id] = ws.RunSettings(color=run_colors[i % len(run_colors)], disabled=False)\n",
        "\n",
        "    workspace = ws.Workspace(\n",
        "        name=\"My Workspace Template\",\n",
        "        entity=entity,\n",
        "        project=project,\n",
        "        sections=[\n",
        "            ws.Section(\n",
        "                name=\"Main Metrics\",\n",
        "                panels=[\n",
        "                    wr.LinePlot(x=\"Step\", y=[\"val_loss\"]),\n",
        "                    wr.LinePlot(x=\"Step\", y=[\"val_accuracy\"]),\n",
        "                    wr.ScalarChart(metric=\"f1_score\", groupby_aggfunc=\"mean\"),\n",
        "                ],\n",
        "                is_open=True,\n",
        "            ),\n",
        "            ws.Section(\n",
        "                name=\"Additional Metrics\",\n",
        "                panels=[\n",
        "                    wr.ScalarChart(metric=\"precision\", groupby_aggfunc=\"mean\"),\n",
        "                    wr.ScalarChart(metric=\"recall\", groupby_aggfunc=\"mean\"),\n",
        "                ],\n",
        "            ),\n",
        "        ],\n",
        "        settings=ws.WorkspaceSettings(\n",
        "            x_axis=\"Step\",\n",
        "            x_min=0,\n",
        "            x_max=100,\n",
        "            smoothing_type=\"none\",\n",
        "            smoothing_weight=0,\n",
        "            ignore_outliers=False,\n",
        "            remove_legends_from_panels=False,\n",
        "            tooltip_number_of_runs=\"default\",\n",
        "            tooltip_color_run_names=True,\n",
        "            max_runs=20,\n",
        "            point_visualization_method=\"bucketing\",\n",
        "            auto_expand_panel_search_results=False,\n",
        "        ),\n",
        "        runset_settings=ws.RunsetSettings(\n",
        "            query=\"\",\n",
        "            regex_query=False,\n",
        "            filters=[\n",
        "                ws.Metric(\"val_loss\") < 1,\n",
        "                ws.Metric(\"Name\") == \"sample_run\",\n",
        "            ],\n",
        "            groupby=[ws.Metric(\"Name\")],\n",
        "            order=[ws.Ordering(ws.Metric(\"Step\"), ascending=True)],\n",
        "            run_settings=run_settings\n",
        "        )\n",
        "    )\n",
        "    workspace.save()\n",
        "    print(\"Workspace created and saved.\")\n",
        "\n",
        "example_08(entity, project)"
      ],
      "metadata": {
        "colab": {
          "base_uri": "https://localhost:8080/"
        },
        "id": "aztgJmIPdVBl",
        "outputId": "64e31c7a-5265-41e7-cbdc-91effa1b34fc"
      },
      "execution_count": 57,
      "outputs": [
        {
          "output_type": "stream",
          "name": "stderr",
          "text": [
            "\u001b[34m\u001b[1mwandb\u001b[0m: View saved: https://wandb.ai/wandb/workspace-api-example?nw=b5qaoyvrrbi\n"
          ]
        },
        {
          "output_type": "stream",
          "name": "stdout",
          "text": [
            "Workspace created and saved.\n"
          ]
        }
      ]
    }
  ]
}