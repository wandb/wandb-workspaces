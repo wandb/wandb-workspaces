{
 "cells": [
  {
   "cell_type": "markdown",
   "metadata": {
    "colab_type": "text",
    "id": "view-in-github"
   },
   "source": [
    "<a href=\"https://colab.research.google.com/github/wandb/wandb-workspaces/blob/Update-wandb-workspaces-tuturial/Workspace_tutorial.ipynb\" target=\"_parent\"><img src=\"https://colab.research.google.com/assets/colab-badge.svg\" alt=\"Open In Colab\"/></a>"
   ]
  },
  {
   "cell_type": "markdown",
   "metadata": {},
   "source": [
    "<img src=\"http://wandb.me/logo-im-png\" width=\"400\" alt=\"Weights & Biases\" />\n",
    "<!--- @wandbcode{intro-colab} -->\n",
    "\n",
    "# Tutorial for [Programmatic Workspace](https://docs.wandb.ai/guides/app/pages/workspaces#saved-workspace-views)\n",
    "\n",
    "Organize and visualize your machine learning experiments more effectively by programmatically create, manage, and customize workspaces by defining configurations, setting panel layouts, and organizing sections with the `wandb-workspaces` W&B library. Load and modify workspaces with URLs, filter and group runs using expressions, and customize run appearances.\n",
    "\n",
    "[`wandb-workspaces`](https://github.com/wandb/wandb-workspaces/tree/main) is a Python library for programmatically creating and customizing W&B [Workspaces](https://docs.wandb.ai/guides/app/pages/workspaces) and [Reports](https://docs.wandb.ai/guides/reports).\n",
    "\n",
    "In this tutorial you will see how to use `wandb-workspaces` to create and customize workspaces by defining configurations, set panel layouts, and organize sections.\n",
    "\n",
    "\n",
    "### How to use this notebook\n",
    "* Run each cell one at a time. \n",
    "* Copy and paste the URL that is printed after you run a cell to view the changes made to the workspace.\n",
    "\n",
    "\n",
    "### Note\n",
    "Programmatic interaction with workspaces is currently supported for [**Saved workspaces views**](https://docs.wandb.ai/guides/app/pages/workspaces#saved-workspace-views). Saved workspaces views are collaborative snapshots of a workspace. Anyone on your team can view, edit, and save changes to saved workspace views. "
   ]
  },
  {
   "cell_type": "markdown",
   "metadata": {
    "id": "X6AencUCi19a"
   },
   "source": [
    "## 1. Install and import dependencies"
   ]
  },
  {
   "cell_type": "code",
   "execution_count": 1,
   "metadata": {
    "id": "99KU0ZiY4t36",
    "scrolled": true
   },
   "outputs": [
    {
     "name": "stdout",
     "output_type": "stream",
     "text": [
      "Requirement already satisfied: wandb in /Users/noahluna/.pyenv/versions/3.10.0/envs/wandb_workspaces/lib/python3.10/site-packages (0.17.4)\n",
      "Requirement already satisfied: wandb-workspaces in /Users/noahluna/.pyenv/versions/3.10.0/envs/wandb_workspaces/lib/python3.10/site-packages (0.1.8)\n",
      "Requirement already satisfied: click!=8.0.0,>=7.1 in /Users/noahluna/.pyenv/versions/3.10.0/envs/wandb_workspaces/lib/python3.10/site-packages (from wandb) (8.1.7)\n",
      "Requirement already satisfied: docker-pycreds>=0.4.0 in /Users/noahluna/.pyenv/versions/3.10.0/envs/wandb_workspaces/lib/python3.10/site-packages (from wandb) (0.4.0)\n",
      "Requirement already satisfied: gitpython!=3.1.29,>=1.0.0 in /Users/noahluna/.pyenv/versions/3.10.0/envs/wandb_workspaces/lib/python3.10/site-packages (from wandb) (3.1.43)\n",
      "Requirement already satisfied: platformdirs in /Users/noahluna/.pyenv/versions/3.10.0/envs/wandb_workspaces/lib/python3.10/site-packages (from wandb) (4.2.2)\n",
      "Requirement already satisfied: protobuf!=4.21.0,<6,>=3.19.0 in /Users/noahluna/.pyenv/versions/3.10.0/envs/wandb_workspaces/lib/python3.10/site-packages (from wandb) (5.27.2)\n",
      "Requirement already satisfied: psutil>=5.0.0 in /Users/noahluna/.pyenv/versions/3.10.0/envs/wandb_workspaces/lib/python3.10/site-packages (from wandb) (6.0.0)\n",
      "Requirement already satisfied: pyyaml in /Users/noahluna/.pyenv/versions/3.10.0/envs/wandb_workspaces/lib/python3.10/site-packages (from wandb) (6.0.1)\n",
      "Requirement already satisfied: requests<3,>=2.0.0 in /Users/noahluna/.pyenv/versions/3.10.0/envs/wandb_workspaces/lib/python3.10/site-packages (from wandb) (2.32.3)\n",
      "Requirement already satisfied: sentry-sdk>=1.0.0 in /Users/noahluna/.pyenv/versions/3.10.0/envs/wandb_workspaces/lib/python3.10/site-packages (from wandb) (2.10.0)\n",
      "Requirement already satisfied: setproctitle in /Users/noahluna/.pyenv/versions/3.10.0/envs/wandb_workspaces/lib/python3.10/site-packages (from wandb) (1.3.3)\n",
      "Requirement already satisfied: setuptools in /Users/noahluna/.pyenv/versions/3.10.0/envs/wandb_workspaces/lib/python3.10/site-packages (from wandb) (70.0.0)\n",
      "Requirement already satisfied: pydantic>=2.7 in /Users/noahluna/.pyenv/versions/3.10.0/envs/wandb_workspaces/lib/python3.10/site-packages (from wandb-workspaces) (2.8.2)\n",
      "Requirement already satisfied: six>=1.4.0 in /Users/noahluna/.pyenv/versions/3.10.0/envs/wandb_workspaces/lib/python3.10/site-packages (from docker-pycreds>=0.4.0->wandb) (1.16.0)\n",
      "Requirement already satisfied: gitdb<5,>=4.0.1 in /Users/noahluna/.pyenv/versions/3.10.0/envs/wandb_workspaces/lib/python3.10/site-packages (from gitpython!=3.1.29,>=1.0.0->wandb) (4.0.11)\n",
      "Requirement already satisfied: annotated-types>=0.4.0 in /Users/noahluna/.pyenv/versions/3.10.0/envs/wandb_workspaces/lib/python3.10/site-packages (from pydantic>=2.7->wandb-workspaces) (0.7.0)\n",
      "Requirement already satisfied: pydantic-core==2.20.1 in /Users/noahluna/.pyenv/versions/3.10.0/envs/wandb_workspaces/lib/python3.10/site-packages (from pydantic>=2.7->wandb-workspaces) (2.20.1)\n",
      "Requirement already satisfied: typing-extensions>=4.6.1 in /Users/noahluna/.pyenv/versions/3.10.0/envs/wandb_workspaces/lib/python3.10/site-packages (from pydantic>=2.7->wandb-workspaces) (4.12.2)\n",
      "Requirement already satisfied: charset-normalizer<4,>=2 in /Users/noahluna/.pyenv/versions/3.10.0/envs/wandb_workspaces/lib/python3.10/site-packages (from requests<3,>=2.0.0->wandb) (3.3.2)\n",
      "Requirement already satisfied: idna<4,>=2.5 in /Users/noahluna/.pyenv/versions/3.10.0/envs/wandb_workspaces/lib/python3.10/site-packages (from requests<3,>=2.0.0->wandb) (3.7)\n",
      "Requirement already satisfied: urllib3<3,>=1.21.1 in /Users/noahluna/.pyenv/versions/3.10.0/envs/wandb_workspaces/lib/python3.10/site-packages (from requests<3,>=2.0.0->wandb) (2.2.2)\n",
      "Requirement already satisfied: certifi>=2017.4.17 in /Users/noahluna/.pyenv/versions/3.10.0/envs/wandb_workspaces/lib/python3.10/site-packages (from requests<3,>=2.0.0->wandb) (2024.7.4)\n",
      "Requirement already satisfied: smmap<6,>=3.0.1 in /Users/noahluna/.pyenv/versions/3.10.0/envs/wandb_workspaces/lib/python3.10/site-packages (from gitdb<5,>=4.0.1->gitpython!=3.1.29,>=1.0.0->wandb) (5.0.1)\n",
      "\n",
      "\u001b[1m[\u001b[0m\u001b[34;49mnotice\u001b[0m\u001b[1;39;49m]\u001b[0m\u001b[39;49m A new release of pip is available: \u001b[0m\u001b[31;49m24.0\u001b[0m\u001b[39;49m -> \u001b[0m\u001b[32;49m24.1.2\u001b[0m\n",
      "\u001b[1m[\u001b[0m\u001b[34;49mnotice\u001b[0m\u001b[1;39;49m]\u001b[0m\u001b[39;49m To update, run: \u001b[0m\u001b[32;49mpython -m pip install --upgrade pip\u001b[0m\n"
     ]
    }
   ],
   "source": [
    "# Install dependencies\n",
    "!pip install wandb wandb-workspaces rich"
   ]
  },
  {
   "cell_type": "code",
   "execution_count": 3,
   "metadata": {
    "id": "IQigRhck4zbF"
   },
   "outputs": [],
   "source": [
    "# Import dependencies\n",
    "import os\n",
    "import wandb\n",
    "import wandb_workspaces.workspaces as ws\n",
    "import wandb_workspaces.reports.v2 as wr # We use the Reports API for adding panels\n",
    "\n",
    "# Improve output formatting\n",
    "%load_ext rich"
   ]
  },
  {
   "cell_type": "markdown",
   "metadata": {
    "id": "1CAls6JljDFo"
   },
   "source": [
    "## 2. Create a new project and workspace\n",
    "\n",
    "For this tutorial we will create a new project so that we can experiment with the `wandb_workspaces` API:\n",
    "\n",
    "Note: You can load an existing workspace using its unique `Saved view` URL. See the next code block to see how to do this."
   ]
  },
  {
   "cell_type": "code",
   "execution_count": 4,
   "metadata": {
    "id": "rApkZmZB9Ueg"
   },
   "outputs": [
    {
     "name": "stderr",
     "output_type": "stream",
     "text": [
      "\u001b[34m\u001b[1mwandb\u001b[0m: Currently logged in as: \u001b[33mnoahluna\u001b[0m. Use \u001b[1m`wandb login --relogin`\u001b[0m to force relogin\n"
     ]
    },
    {
     "data": {
      "text/html": [
       "<pre style=\"white-space:pre;overflow-x:auto;line-height:normal;font-family:Menlo,'DejaVu Sans Mono',consolas,'Courier New',monospace\"></pre>\n"
      ],
      "text/plain": []
     },
     "metadata": {},
     "output_type": "display_data"
    },
    {
     "data": {
      "text/html": [
       "Tracking run with wandb version 0.17.4"
      ],
      "text/plain": [
       "\u001b[1m<\u001b[0m\u001b[1;95mIPython.core.display.HTML\u001b[0m\u001b[39m object\u001b[0m\u001b[1m>\u001b[0m"
      ]
     },
     "metadata": {},
     "output_type": "display_data"
    },
    {
     "data": {
      "text/html": [
       "<pre style=\"white-space:pre;overflow-x:auto;line-height:normal;font-family:Menlo,'DejaVu Sans Mono',consolas,'Courier New',monospace\"></pre>\n"
      ],
      "text/plain": []
     },
     "metadata": {},
     "output_type": "display_data"
    },
    {
     "data": {
      "text/html": [
       "Run data is saved locally in <code>/Users/noahluna/Documents/GitHub/wandb-workspaces/wandb/run-20240717_123936-tar0w2zo</code>"
      ],
      "text/plain": [
       "\u001b[1m<\u001b[0m\u001b[1;95mIPython.core.display.HTML\u001b[0m\u001b[39m object\u001b[0m\u001b[1m>\u001b[0m"
      ]
     },
     "metadata": {},
     "output_type": "display_data"
    },
    {
     "data": {
      "text/html": [
       "<pre style=\"white-space:pre;overflow-x:auto;line-height:normal;font-family:Menlo,'DejaVu Sans Mono',consolas,'Courier New',monospace\"></pre>\n"
      ],
      "text/plain": []
     },
     "metadata": {},
     "output_type": "display_data"
    },
    {
     "data": {
      "text/html": [
       "Syncing run <strong><a href='https://wandb.ai/noahluna/workspace-api-example/runs/tar0w2zo' target=\"_blank\">sample_run</a></strong> to <a href='https://wandb.ai/noahluna/workspace-api-example' target=\"_blank\">Weights & Biases</a> (<a href='https://wandb.me/run' target=\"_blank\">docs</a>)<br/>"
      ],
      "text/plain": [
       "\u001b[1m<\u001b[0m\u001b[1;95mIPython.core.display.HTML\u001b[0m\u001b[39m object\u001b[0m\u001b[1m>\u001b[0m"
      ]
     },
     "metadata": {},
     "output_type": "display_data"
    },
    {
     "data": {
      "text/html": [
       "<pre style=\"white-space:pre;overflow-x:auto;line-height:normal;font-family:Menlo,'DejaVu Sans Mono',consolas,'Courier New',monospace\"></pre>\n"
      ],
      "text/plain": []
     },
     "metadata": {},
     "output_type": "display_data"
    },
    {
     "data": {
      "text/html": [
       " View project at <a href='https://wandb.ai/noahluna/workspace-api-example' target=\"_blank\">https://wandb.ai/noahluna/workspace-api-example</a>"
      ],
      "text/plain": [
       "\u001b[1m<\u001b[0m\u001b[1;95mIPython.core.display.HTML\u001b[0m\u001b[39m object\u001b[0m\u001b[1m>\u001b[0m"
      ]
     },
     "metadata": {},
     "output_type": "display_data"
    },
    {
     "data": {
      "text/html": [
       "<pre style=\"white-space:pre;overflow-x:auto;line-height:normal;font-family:Menlo,'DejaVu Sans Mono',consolas,'Courier New',monospace\"></pre>\n"
      ],
      "text/plain": []
     },
     "metadata": {},
     "output_type": "display_data"
    },
    {
     "data": {
      "text/html": [
       " View run at <a href='https://wandb.ai/noahluna/workspace-api-example/runs/tar0w2zo' target=\"_blank\">https://wandb.ai/noahluna/workspace-api-example/runs/tar0w2zo</a>"
      ],
      "text/plain": [
       "\u001b[1m<\u001b[0m\u001b[1;95mIPython.core.display.HTML\u001b[0m\u001b[39m object\u001b[0m\u001b[1m>\u001b[0m"
      ]
     },
     "metadata": {},
     "output_type": "display_data"
    },
    {
     "data": {
      "text/html": [
       "<pre style=\"white-space:pre;overflow-x:auto;line-height:normal;font-family:Menlo,'DejaVu Sans Mono',consolas,'Courier New',monospace\"></pre>\n"
      ],
      "text/plain": []
     },
     "metadata": {},
     "output_type": "display_data"
    },
    {
     "data": {
      "text/html": [
       "<style>\n",
       "    table.wandb td:nth-child(1) { padding: 0 10px; text-align: left ; width: auto;} td:nth-child(2) {text-align: left ; width: 100%}\n",
       "    .wandb-row { display: flex; flex-direction: row; flex-wrap: wrap; justify-content: flex-start; width: 100% }\n",
       "    .wandb-col { display: flex; flex-direction: column; flex-basis: 100%; flex: 1; padding: 10px; }\n",
       "    </style>\n",
       "<div class=\"wandb-row\"><div class=\"wandb-col\"><h3>Run history:</h3><br/><table class=\"wandb\"><tr><td>Step</td><td>▁▁▁▁▂▂▂▂▂▃▃▃▃▃▃▄▄▄▄▄▅▅▅▅▅▅▆▆▆▆▆▇▇▇▇▇▇███</td></tr><tr><td>f1_score</td><td>▁▁▁▁▂▂▂▂▂▃▃▃▃▃▃▄▄▄▄▄▅▅▅▅▅▅▆▆▆▆▆▇▇▇▇▇▇███</td></tr><tr><td>recall</td><td>▁▁▁▁▂▂▂▂▂▃▃▃▃▃▃▄▄▄▄▄▅▅▅▅▅▅▆▆▆▆▆▇▇▇▇▇▇███</td></tr><tr><td>train_accuracy</td><td>▁▁▁▁▂▂▂▂▂▃▃▃▃▃▃▄▄▄▄▄▅▅▅▅▅▅▆▆▆▆▆▇▇▇▇▇▇███</td></tr><tr><td>train_loss</td><td>█▄▃▂▂▂▂▂▂▁▁▁▁▁▁▁▁▁▁▁▁▁▁▁▁▁▁▁▁▁▁▁▁▁▁▁▁▁▁▁</td></tr><tr><td>val_accuracy</td><td>▁▁▁▁▂▂▂▂▂▃▃▃▃▃▃▄▄▄▄▄▅▅▅▅▅▅▆▆▆▆▆▇▇▇▇▇▇███</td></tr><tr><td>val_loss</td><td>█▃▂▂▂▁▁▁▁▁▁▁▁▁▁▁▁▁▁▁▁▁▁▁▁▁▁▁▁▁▁▁▁▁▁▁▁▁▁▁</td></tr></table><br/></div><div class=\"wandb-col\"><h3>Run summary:</h3><br/><table class=\"wandb\"><tr><td>Step</td><td>99</td></tr><tr><td>f1_score</td><td>0.99</td></tr><tr><td>recall</td><td>0.825</td></tr><tr><td>train_accuracy</td><td>0.9</td></tr><tr><td>train_loss</td><td>0.0099</td></tr><tr><td>val_accuracy</td><td>0.99</td></tr><tr><td>val_loss</td><td>0.01</td></tr></table><br/></div></div>"
      ],
      "text/plain": [
       "\u001b[1m<\u001b[0m\u001b[1;95mIPython.core.display.HTML\u001b[0m\u001b[39m object\u001b[0m\u001b[1m>\u001b[0m"
      ]
     },
     "metadata": {},
     "output_type": "display_data"
    },
    {
     "data": {
      "text/html": [
       "<pre style=\"white-space:pre;overflow-x:auto;line-height:normal;font-family:Menlo,'DejaVu Sans Mono',consolas,'Courier New',monospace\"></pre>\n"
      ],
      "text/plain": []
     },
     "metadata": {},
     "output_type": "display_data"
    },
    {
     "data": {
      "text/html": [
       " View run <strong style=\"color:#cdcd00\">sample_run</strong> at: <a href='https://wandb.ai/noahluna/workspace-api-example/runs/tar0w2zo' target=\"_blank\">https://wandb.ai/noahluna/workspace-api-example/runs/tar0w2zo</a><br/> View project at: <a href='https://wandb.ai/noahluna/workspace-api-example' target=\"_blank\">https://wandb.ai/noahluna/workspace-api-example</a><br/>Synced 5 W&B file(s), 0 media file(s), 5 artifact file(s) and 1 other file(s)"
      ],
      "text/plain": [
       "\u001b[1m<\u001b[0m\u001b[1;95mIPython.core.display.HTML\u001b[0m\u001b[39m object\u001b[0m\u001b[1m>\u001b[0m"
      ]
     },
     "metadata": {},
     "output_type": "display_data"
    },
    {
     "data": {
      "text/html": [
       "<pre style=\"white-space:pre;overflow-x:auto;line-height:normal;font-family:Menlo,'DejaVu Sans Mono',consolas,'Courier New',monospace\"></pre>\n"
      ],
      "text/plain": []
     },
     "metadata": {},
     "output_type": "display_data"
    },
    {
     "data": {
      "text/html": [
       "Find logs at: <code>./wandb/run-20240717_123936-tar0w2zo/logs</code>"
      ],
      "text/plain": [
       "\u001b[1m<\u001b[0m\u001b[1;95mIPython.core.display.HTML\u001b[0m\u001b[39m object\u001b[0m\u001b[1m>\u001b[0m"
      ]
     },
     "metadata": {},
     "output_type": "display_data"
    },
    {
     "data": {
      "text/html": [
       "<pre style=\"white-space:pre;overflow-x:auto;line-height:normal;font-family:Menlo,'DejaVu Sans Mono',consolas,'Courier New',monospace\"></pre>\n"
      ],
      "text/plain": []
     },
     "metadata": {},
     "output_type": "display_data"
    },
    {
     "data": {
      "text/html": [
       "The new W&B backend becomes opt-out in version 0.18.0; try it out with `wandb.require(\"core\")`! See https://wandb.me/wandb-core for more information."
      ],
      "text/plain": [
       "\u001b[1m<\u001b[0m\u001b[1;95mIPython.core.display.HTML\u001b[0m\u001b[39m object\u001b[0m\u001b[1m>\u001b[0m"
      ]
     },
     "metadata": {},
     "output_type": "display_data"
    }
   ],
   "source": [
    "# Initialize Weights & Biases and Login\n",
    "wandb.login()\n",
    "\n",
    "# Function to create a new project and log sample data\n",
    "def create_project_and_log_data():\n",
    "    project = \"workspace-api-example\"  # Default project name\n",
    "\n",
    "    # Initialize a run to log some sample data\n",
    "    with wandb.init(project=project, name=\"sample_run\") as run:\n",
    "        for step in range(100):\n",
    "            wandb.log({\n",
    "                \"Step\": step,\n",
    "                \"val_loss\": 1.0 / (step + 1),\n",
    "                \"val_accuracy\": step / 100.0,\n",
    "                \"train_loss\": 1.0 / (step + 2),\n",
    "                \"train_accuracy\": step / 110.0,\n",
    "                \"f1_score\": step / 100.0,\n",
    "                \"recall\": step / 120.0,\n",
    "            })\n",
    "    return project\n",
    "\n",
    "# Create a new project and log data\n",
    "project = create_project_and_log_data()\n",
    "entity = wandb.Api().default_entity"
   ]
  },
  {
   "cell_type": "markdown",
   "metadata": {},
   "source": [
    "### (Optional) Load an existing project and workspace\n",
    "Instead of creating a new project, you can load one of your own existing project and workspace. To do this, find the unique workspace URL and pass it to `ws.Workspace.from_url` as a string. The URL has the form `https://wandb.ai/[SOURCE-ENTITY]/[SOURCE-USER]?nw=abc`. \n",
    "\n",
    "For example:"
   ]
  },
  {
   "cell_type": "raw",
   "metadata": {},
   "source": [
    "wandb.login()\n",
    "\n",
    "workspace = ws.Workspace.from_url(\"https://wandb.ai/[SOURCE-ENTITY]/[SOURCE-USER]?nw=abc\").\n",
    "\n",
    "workspace = ws.Workspace(\n",
    "    entity=\"NEW-ENTITY\",\n",
    "    project=NEW-PROJECT,\n",
    "    name=\"NEW-SAVED-VIEW-NAME\"\n",
    ")"
   ]
  },
  {
   "cell_type": "markdown",
   "metadata": {
    "id": "E7WAoOlsiQTL"
   },
   "source": [
    "## 3. Programmatic workspace examples\n",
    "Below are examples for using programmatic workspace features:"
   ]
  },
  {
   "cell_type": "code",
   "execution_count": 5,
   "metadata": {
    "id": "irVaxJ289yMa"
   },
   "outputs": [
    {
     "data": {
      "text/html": [
       "<pre style=\"white-space:pre;overflow-x:auto;line-height:normal;font-family:Menlo,'DejaVu Sans Mono',consolas,'Courier New',monospace\"></pre>\n"
      ],
      "text/plain": []
     },
     "metadata": {},
     "output_type": "display_data"
    },
    {
     "data": {
      "text/plain": [
       "\n",
       "\u001b[1m[\u001b[0m\n",
       "    \u001b[32m'Config'\u001b[0m,\n",
       "    \u001b[32m'Metric'\u001b[0m,\n",
       "    \u001b[32m'Ordering'\u001b[0m,\n",
       "    \u001b[32m'RunSettings'\u001b[0m,\n",
       "    \u001b[32m'RunsetSettings'\u001b[0m,\n",
       "    \u001b[32m'Section'\u001b[0m,\n",
       "    \u001b[32m'SectionLayoutSettings'\u001b[0m,\n",
       "    \u001b[32m'SectionPanelSettings'\u001b[0m,\n",
       "    \u001b[32m'Summary'\u001b[0m,\n",
       "    \u001b[32m'Tags'\u001b[0m,\n",
       "    \u001b[32m'Workspace'\u001b[0m,\n",
       "    \u001b[32m'WorkspaceSettings'\u001b[0m\n",
       "\u001b[1m]\u001b[0m"
      ]
     },
     "execution_count": 5,
     "metadata": {},
     "output_type": "execute_result"
    }
   ],
   "source": [
    "# See all available settings for workspaces, sections, and panels.\n",
    "all_settings_objects = [x for x in dir(ws) if isinstance(getattr(ws, x), type)]\n",
    "all_settings_objects"
   ]
  },
  {
   "cell_type": "markdown",
   "metadata": {
    "id": "kHD8tEjEPqjL"
   },
   "source": [
    "### Create a workspace with `saved view`\n",
    "This example demonstrates how to create a new workspace and populate it with sections and panels. Workspaces can be edited like regular Python objects, providing flexibility and ease of use."
   ]
  },
  {
   "cell_type": "code",
   "execution_count": 6,
   "metadata": {
    "id": "sWmN5lNJB-pH"
   },
   "outputs": [
    {
     "name": "stderr",
     "output_type": "stream",
     "text": [
      "\u001b[34m\u001b[1mwandb\u001b[0m: View saved: https://wandb.ai/noahluna/workspace-api-example?nw=mossw1jtfob\n"
     ]
    },
    {
     "name": "stdout",
     "output_type": "stream",
     "text": [
      "Sample Workspace saved.\n"
     ]
    }
   ],
   "source": [
    "def sample_workspace_saved_example(entity: str, project: str) -> str:\n",
    "    workspace: ws.Workspace = ws.Workspace(\n",
    "        name=\"Example W&B Workspace\",\n",
    "        entity=entity,\n",
    "        project=project,\n",
    "        sections=[\n",
    "            ws.Section(\n",
    "                name=\"Validation Metrics\",\n",
    "                panels=[\n",
    "                    wr.LinePlot(x=\"Step\", y=[\"val_loss\"]),\n",
    "                    wr.BarPlot(metrics=[\"val_accuracy\"]),\n",
    "                    wr.ScalarChart(metric=\"f1_score\", groupby_aggfunc=\"mean\"),\n",
    "                ],\n",
    "                is_open=True,\n",
    "            ),\n",
    "        ],\n",
    "    )\n",
    "    workspace.save()\n",
    "    print(\"Sample Workspace saved.\")\n",
    "    return workspace.url\n",
    "\n",
    "workspace_url: str = sample_workspace_saved_example(entity, project)"
   ]
  },
  {
   "cell_type": "markdown",
   "metadata": {
    "id": "SIIcxNVSQXmu"
   },
   "source": [
    "### Load a workspace from a URL\n",
    "Duplicate and customize workspaces without affecting the original setup. To do this, load an existing workspace and save it as a new view:"
   ]
  },
  {
   "cell_type": "code",
   "execution_count": 7,
   "metadata": {
    "id": "_gWiaq_r9xIM"
   },
   "outputs": [
    {
     "name": "stderr",
     "output_type": "stream",
     "text": [
      "\u001b[34m\u001b[1mwandb\u001b[0m: View saved: https://wandb.ai/noahluna/workspace-api-example?nw=mossw1jtfob\n"
     ]
    },
    {
     "name": "stdout",
     "output_type": "stream",
     "text": [
      "Workspace saved as new view.\n"
     ]
    }
   ],
   "source": [
    "def save_new_workspace_view_example(url: str) -> None:\n",
    "    workspace: ws.Workspace = ws.Workspace.from_url(url)\n",
    "\n",
    "    workspace.name = \"Updated Workspace Name\"\n",
    "    workspace.save()\n",
    "\n",
    "    print(f\"Workspace saved as new view.\")\n",
    "\n",
    "save_new_workspace_view_example(workspace_url)"
   ]
  },
  {
   "cell_type": "markdown",
   "metadata": {},
   "source": [
    "Note that your workspace is now named \"Updated Workspace Name\"."
   ]
  },
  {
   "cell_type": "markdown",
   "metadata": {
    "id": "o3NsLMqUQnOF"
   },
   "source": [
    "### Basic settings\n",
    "The following code shows how to create a workspace, add sections with panels, and configure settings for the workspace, individual sections, and panels:"
   ]
  },
  {
   "cell_type": "code",
   "execution_count": 8,
   "metadata": {
    "id": "Jeo-2lqMSKR5"
   },
   "outputs": [
    {
     "name": "stderr",
     "output_type": "stream",
     "text": [
      "\u001b[34m\u001b[1mwandb\u001b[0m: View saved: https://wandb.ai/noahluna/workspace-api-example?nw=cpy2uu3kcih\n"
     ]
    },
    {
     "name": "stdout",
     "output_type": "stream",
     "text": [
      "Workspace with custom settings saved.\n"
     ]
    }
   ],
   "source": [
    "# Function to create and configure a workspace with custom settings\n",
    "def custom_settings_example(entity: str, project: str) -> None:\n",
    "    workspace: ws.Workspace = ws.Workspace(name=\"An example workspace\", entity=entity, project=project)\n",
    "    workspace.sections = [\n",
    "        ws.Section(\n",
    "            name=\"Validation\",\n",
    "            panels=[\n",
    "                wr.LinePlot(x=\"Step\", y=[\"val_loss\"]),\n",
    "                wr.LinePlot(x=\"Step\", y=[\"val_accuracy\"]),\n",
    "                wr.ScalarChart(metric=\"f1_score\", groupby_aggfunc=\"mean\"),\n",
    "                wr.ScalarChart(metric=\"recall\", groupby_aggfunc=\"mean\"),\n",
    "            ],\n",
    "            is_open=True,\n",
    "        ),\n",
    "        ws.Section(\n",
    "            name=\"Training\",\n",
    "            panels=[\n",
    "                wr.LinePlot(x=\"Step\", y=[\"train_loss\"]),\n",
    "                wr.LinePlot(x=\"Step\", y=[\"train_accuracy\"]),\n",
    "            ],\n",
    "            is_open=False,\n",
    "        ),\n",
    "    ]\n",
    "\n",
    "    workspace.settings = ws.WorkspaceSettings(\n",
    "        x_axis=\"Step\",\n",
    "        x_min=0,\n",
    "        x_max=75,\n",
    "        smoothing_type=\"gaussian\",\n",
    "        smoothing_weight=20.0,\n",
    "        ignore_outliers=False,\n",
    "        remove_legends_from_panels=False,\n",
    "        tooltip_number_of_runs=\"default\",\n",
    "        tooltip_color_run_names=True,\n",
    "        max_runs=20,\n",
    "        point_visualization_method=\"bucketing\",\n",
    "        auto_expand_panel_search_results=False,\n",
    "    )\n",
    "\n",
    "    section = workspace.sections[0]\n",
    "    section.panel_settings = ws.SectionPanelSettings(\n",
    "        x_min=25,\n",
    "        x_max=50,\n",
    "        smoothing_type=\"none\",\n",
    "    )\n",
    "\n",
    "    panel = section.panels[0]\n",
    "    panel.title = \"Validation Loss Custom Title\"\n",
    "    panel.title_x = \"Custom x-axis title\"\n",
    "\n",
    "    workspace.save()\n",
    "    print(\"Workspace with custom settings saved.\")\n",
    "\n",
    "# Run the function to create and configure the workspace\n",
    "custom_settings_example(entity, project)"
   ]
  },
  {
   "cell_type": "markdown",
   "metadata": {},
   "source": [
    "Note that you are now viewing a different saved view called \"An example workspace\"."
   ]
  },
  {
   "cell_type": "markdown",
   "metadata": {
    "id": "oT54K4DLQos-"
   },
   "source": [
    "## Customize runs\n",
    "The following code cells show you how to filter, change the color, group, and sort runs programmatically. \n",
    "\n",
    "In each example, the general workflow is to specify the desired customization as an argument to the appropiate parameter in `ws.RunsetSettings`.\n",
    "\n",
    "### Filter runs\n",
    "You can create filters with python expressions and metrics you log with `wandb.log` or that are logged automatically as part of the run such as **Created Timestamp**.  You can also reference filters by how they appear in the W&B App UI such as the **Name**, **Tags**, or **ID**.\n",
    "\n",
    "The following example shows how to filter runs based on the validation loss summary, validation accuracy summary, and the regex specified:"
   ]
  },
  {
   "cell_type": "code",
   "execution_count": 9,
   "metadata": {
    "id": "IaBvnHSISobu"
   },
   "outputs": [
    {
     "name": "stderr",
     "output_type": "stream",
     "text": [
      "\u001b[34m\u001b[1mwandb\u001b[0m: View saved: https://wandb.ai/noahluna/workspace-api-example?nw=xmr62x98kz9\n"
     ]
    },
    {
     "name": "stdout",
     "output_type": "stream",
     "text": [
      "Workspace with advanced filters and regex search saved.\n"
     ]
    }
   ],
   "source": [
    "def advanced_filter_example(entity: str, project: str) -> None:\n",
    "    # Get all runs in the project\n",
    "    runs: list = wandb.Api().runs(f\"{entity}/{project}\")\n",
    "\n",
    "    # Apply multiple filters: val_loss < 0.1, val_accuracy > 0.8, and run name matches regex pattern\n",
    "    workspace: ws.Workspace = ws.Workspace(\n",
    "        name=\"Advanced Filtered Workspace with Regex\",\n",
    "        entity=entity,\n",
    "        project=project,\n",
    "        sections=[\n",
    "            ws.Section(\n",
    "                name=\"Advanced Filtered Section\",\n",
    "                panels=[\n",
    "                    wr.LinePlot(x=\"Step\", y=[\"val_loss\"]),\n",
    "                    wr.LinePlot(x=\"Step\", y=[\"val_accuracy\"]),\n",
    "                ],\n",
    "                is_open=True,\n",
    "            ),\n",
    "        ],\n",
    "        runset_settings=ws.RunsetSettings(\n",
    "            filters=[\n",
    "                (ws.Summary(\"val_loss\") < 0.1),  # Filter runs by the 'val_loss' summary\n",
    "                (ws.Summary(\"val_accuracy\") > 0.8),  # Filter runs by the 'val_accuracy' summary\n",
    "                (ws.Metric(\"ID\").isin([run.id for run in wandb.Api().runs(f\"{entity}/{project}\")])),\n",
    "            ],\n",
    "            regex_query=True,\n",
    "        )\n",
    "    )\n",
    "\n",
    "    # Add regex search to match run names starting with 's'\n",
    "    workspace.runset_settings.query = \"^s\"\n",
    "    workspace.runset_settings.regex_query = True\n",
    "\n",
    "    workspace.save()\n",
    "    print(\"Workspace with advanced filters and regex search saved.\")\n",
    "\n",
    "advanced_filter_example(entity, project)"
   ]
  },
  {
   "cell_type": "markdown",
   "metadata": {},
   "source": [
    "Note that passing in a list of filter expressions applies the boolean \"AND\" logic."
   ]
  },
  {
   "cell_type": "markdown",
   "metadata": {
    "id": "-boRSciuQo1a"
   },
   "source": [
    "### Change the colors of runs\n",
    "This example demonstrates how to change the colors of the runs in a workspace:"
   ]
  },
  {
   "cell_type": "code",
   "execution_count": 10,
   "metadata": {
    "id": "6JnC9tFKbYgm"
   },
   "outputs": [
    {
     "name": "stderr",
     "output_type": "stream",
     "text": [
      "\u001b[34m\u001b[1mwandb\u001b[0m: View saved: https://wandb.ai/noahluna/workspace-api-example?nw=aijdv1t2yqj\n"
     ]
    },
    {
     "name": "stdout",
     "output_type": "stream",
     "text": [
      "Workspace with run colors saved.\n"
     ]
    }
   ],
   "source": [
    "def run_color_example(entity: str, project: str) -> None:\n",
    "    # Get all runs in the project\n",
    "    runs: list = wandb.Api().runs(f\"{entity}/{project}\")\n",
    "\n",
    "    # Dynamically assign colors to the runs\n",
    "    run_colors: list = ['purple', 'orange', 'teal', 'magenta']\n",
    "    run_settings: dict = {}\n",
    "    for i, run in enumerate(runs):\n",
    "        run_settings[run.id] = ws.RunSettings(color=run_colors[i % len(run_colors)])\n",
    "\n",
    "    workspace: ws.Workspace = ws.Workspace(\n",
    "        name=\"Run Colors Workspace\",\n",
    "        entity=entity,\n",
    "        project=project,\n",
    "        sections=[\n",
    "            ws.Section(\n",
    "                name=\"Run Colors Section\",\n",
    "                panels=[\n",
    "                    wr.LinePlot(x=\"Step\", y=[\"val_loss\"]),\n",
    "                    wr.LinePlot(x=\"Step\", y=[\"val_accuracy\"]),\n",
    "                ],\n",
    "                is_open=True,\n",
    "            ),\n",
    "        ],\n",
    "        runset_settings=ws.RunsetSettings(\n",
    "            run_settings=run_settings\n",
    "        )\n",
    "    )\n",
    "\n",
    "    workspace.save()\n",
    "    print(\"Workspace with run colors saved.\")\n",
    "\n",
    "run_color_example(entity, project)"
   ]
  },
  {
   "cell_type": "markdown",
   "metadata": {
    "id": "09GiaVZCQo9Y"
   },
   "source": [
    "### Group runs\n",
    "\n",
    "This example demonstrates how to group runs by specific metrics.\n"
   ]
  },
  {
   "cell_type": "code",
   "execution_count": 11,
   "metadata": {
    "id": "oW4ZSYw5c1L_"
   },
   "outputs": [
    {
     "name": "stderr",
     "output_type": "stream",
     "text": [
      "\u001b[34m\u001b[1mwandb\u001b[0m: View saved: https://wandb.ai/noahluna/workspace-api-example?nw=x598srongc6\n"
     ]
    },
    {
     "name": "stdout",
     "output_type": "stream",
     "text": [
      "Workspace with grouped runs saved.\n"
     ]
    }
   ],
   "source": [
    "def grouping_example(entity: str, project: str) -> None:\n",
    "    workspace: ws.Workspace = ws.Workspace(\n",
    "        name=\"Grouped Runs Workspace\",\n",
    "        entity=entity,\n",
    "        project=project,\n",
    "        sections=[\n",
    "            ws.Section(\n",
    "                name=\"Grouped Runs\",\n",
    "                panels=[\n",
    "                    wr.LinePlot(x=\"Step\", y=[\"val_loss\"]),\n",
    "                    wr.LinePlot(x=\"Step\", y=[\"val_accuracy\"]),\n",
    "                ],\n",
    "                is_open=True,\n",
    "            ),\n",
    "        ],\n",
    "        runset_settings=ws.RunsetSettings(\n",
    "            groupby=[ws.Metric(\"Name\")]\n",
    "        )\n",
    "    )\n",
    "    workspace.save()\n",
    "    print(\"Workspace with grouped runs saved.\")\n",
    "\n",
    "grouping_example(entity, project)"
   ]
  },
  {
   "cell_type": "markdown",
   "metadata": {
    "id": "3-soac7eOXRY"
   },
   "source": [
    "### Sort runs\n",
    "This example demonstrates how to sort runs based on the validation loss summary:"
   ]
  },
  {
   "cell_type": "code",
   "execution_count": 12,
   "metadata": {
    "id": "UbIqEPtJdFR5"
   },
   "outputs": [
    {
     "name": "stderr",
     "output_type": "stream",
     "text": [
      "\u001b[34m\u001b[1mwandb\u001b[0m: View saved: https://wandb.ai/noahluna/workspace-api-example?nw=rysp4q7qp4q\n"
     ]
    },
    {
     "name": "stdout",
     "output_type": "stream",
     "text": [
      "Workspace with sorted runs saved.\n"
     ]
    }
   ],
   "source": [
    "def sorting_example(entity: str, project: str) -> None:\n",
    "    workspace: ws.Workspace = ws.Workspace(\n",
    "        name=\"Sorted Runs Workspace\",\n",
    "        entity=entity,\n",
    "        project=project,\n",
    "        sections=[\n",
    "            ws.Section(\n",
    "                name=\"Sorted Runs\",\n",
    "                panels=[\n",
    "                    wr.LinePlot(x=\"Step\", y=[\"val_loss\"]),\n",
    "                    wr.LinePlot(x=\"Step\", y=[\"val_accuracy\"]),\n",
    "                ],\n",
    "                is_open=True,\n",
    "            ),\n",
    "        ],\n",
    "        runset_settings=ws.RunsetSettings(\n",
    "            order=[ws.Ordering(ws.Summary(\"val_loss\"))] #Order using val_loss summary\n",
    "        )\n",
    "    )\n",
    "    workspace.save()\n",
    "    print(\"Workspace with sorted runs saved.\")\n",
    "\n",
    "sorting_example(entity, project)"
   ]
  },
  {
   "cell_type": "markdown",
   "metadata": {
    "id": "3BwWS8b_QpMI"
   },
   "source": [
    "## 4. Putting it all together: comprehenive example\n",
    "\n",
    "This example demonstrates how to create a comprehensive workspace, configure its settings, and add panels to sections:"
   ]
  },
  {
   "cell_type": "code",
   "execution_count": null,
   "metadata": {
    "id": "aztgJmIPdVBl"
   },
   "outputs": [],
   "source": [
    "def full_end_to_end_example(entity: str, project: str) -> None:\n",
    "    # Get all runs in the project\n",
    "    runs: list = wandb.Api().runs(f\"{entity}/{project}\")\n",
    "\n",
    "    # Dynamically assign colors to the runs and create run settings\n",
    "    run_colors: list = ['red', 'blue', 'green', 'orange', 'purple', 'teal', 'magenta', '#FAC13C']\n",
    "    run_settings: dict = {}\n",
    "    for i, run in enumerate(runs):\n",
    "        run_settings[run.id] = ws.RunSettings(color=run_colors[i % len(run_colors)], disabled=False)\n",
    "\n",
    "    workspace: ws.Workspace = ws.Workspace(\n",
    "        name=\"My Workspace Template\",\n",
    "        entity=entity,\n",
    "        project=project,\n",
    "        sections=[\n",
    "            ws.Section(\n",
    "                name=\"Main Metrics\",\n",
    "                panels=[\n",
    "                    wr.LinePlot(x=\"Step\", y=[\"val_loss\"]),\n",
    "                    wr.LinePlot(x=\"Step\", y=[\"val_accuracy\"]),\n",
    "                    wr.ScalarChart(metric=\"f1_score\", groupby_aggfunc=\"mean\"),\n",
    "                ],\n",
    "                is_open=True,\n",
    "            ),\n",
    "            ws.Section(\n",
    "                name=\"Additional Metrics\",\n",
    "                panels=[\n",
    "                    wr.ScalarChart(metric=\"precision\", groupby_aggfunc=\"mean\"),\n",
    "                    wr.ScalarChart(metric=\"recall\", groupby_aggfunc=\"mean\"),\n",
    "                ],\n",
    "            ),\n",
    "        ],\n",
    "        settings=ws.WorkspaceSettings(\n",
    "            x_axis=\"Step\",\n",
    "            x_min=0,\n",
    "            x_max=100,\n",
    "            smoothing_type=\"none\",\n",
    "            smoothing_weight=0,\n",
    "            ignore_outliers=False,\n",
    "            remove_legends_from_panels=False,\n",
    "            tooltip_number_of_runs=\"default\",\n",
    "            tooltip_color_run_names=True,\n",
    "            max_runs=20,\n",
    "            point_visualization_method=\"bucketing\",\n",
    "            auto_expand_panel_search_results=False,\n",
    "        ),\n",
    "        runset_settings=ws.RunsetSettings(\n",
    "            query=\"\",\n",
    "            regex_query=False,\n",
    "            filters=[\n",
    "                ws.Summary(\"val_loss\") < 1,\n",
    "                ws.Metric(\"Name\") == \"sample_run\",\n",
    "            ],\n",
    "            groupby=[ws.Metric(\"Name\")],\n",
    "            order=[ws.Ordering(ws.Summary(\"Step\"), ascending=True)],\n",
    "            run_settings=run_settings\n",
    "        )\n",
    "    )\n",
    "    workspace.save()\n",
    "    print(\"Workspace created and saved.\")\n",
    "\n",
    "full_end_to_end_example(entity, project)"
   ]
  }
 ],
 "metadata": {
  "colab": {
   "authorship_tag": "ABX9TyOTajJcyYgAnYRXXXMq+sml",
   "collapsed_sections": [
    "o3NsLMqUQnOF"
   ],
   "include_colab_link": true,
   "provenance": []
  },
  "kernelspec": {
   "display_name": "wandb_workspaces",
   "language": "python",
   "name": "wandb_workspaces"
  },
  "language_info": {
   "codemirror_mode": {
    "name": "ipython",
    "version": 3
   },
   "file_extension": ".py",
   "mimetype": "text/x-python",
   "name": "python",
   "nbconvert_exporter": "python",
   "pygments_lexer": "ipython3",
   "version": "3.10.0"
  }
 },
 "nbformat": 4,
 "nbformat_minor": 4
}
