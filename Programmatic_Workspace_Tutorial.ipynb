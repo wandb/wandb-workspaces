{
  "nbformat": 4,
  "nbformat_minor": 0,
  "metadata": {
    "colab": {
      "provenance": [],
      "authorship_tag": "ABX9TyOlO7ZZtJdsX8bGGQ3zkIpY",
      "include_colab_link": true
    },
    "kernelspec": {
      "name": "python3",
      "display_name": "Python 3"
    },
    "language_info": {
      "name": "python"
    }
  },
  "cells": [
    {
      "cell_type": "markdown",
      "metadata": {
        "id": "view-in-github",
        "colab_type": "text"
      },
      "source": [
        "<a href=\"https://colab.research.google.com/github/wandb/wandb-workspaces/blob/example-notebook/Programmatic_Workspace_Tutorial.ipynb\" target=\"_parent\"><img src=\"https://colab.research.google.com/assets/colab-badge.svg\" alt=\"Open In Colab\"/></a>"
      ]
    },
    {
      "cell_type": "markdown",
      "source": [],
      "metadata": {
        "id": "po7Xf9qF5Aem"
      }
    },
    {
      "cell_type": "markdown",
      "source": [
        "\n",
        "# Sample Notebook for [Weights & Biases Programmatic Workspace](https://docs.wandb.ai/guides/app/pages/workspaces#saved-workspace-views)\n",
        "\n",
        "\n",
        "### Overview\n",
        "* [wandb-workspaces](https://github.com/wandb/wandb-workspaces/tree/main) is a Python library for programmatically working with Weights & Biases workspaces and Reports. You can define a workspace programmatically by defining the workspace's properties, such as its name, associated entity and project, and the sections it should contain.\n",
        "\n",
        "* Programmatically create and customize workspaces by defining configurations, setting panel layouts, and organizing sections. Load and modify workspaces via URL, filter and group runs using expressions, and customize run appearances. Easily copy views across workspaces for integration.\n",
        "\n",
        "### Known limitations\n",
        "* Only compatible with Saved Views (URLs ending with ?nw=...). Clone a `Personal Workspace` as `Saved Views` for programmatic interaction.\n",
        "\n",
        "### Notebook Instructions:\n",
        "\n",
        "* Run each cell step by step. The notebook will log sample data to a project named `workspace-api-example`.\n",
        "* The notebook will create the project, log sample a to it, and then demonstrate the workspace examples using this data."
      ],
      "metadata": {
        "id": "MmxL0wjvrNtQ"
      }
    },
    {
      "cell_type": "markdown",
      "source": [
        "# Install and Import Dependencies"
      ],
      "metadata": {
        "id": "X6AencUCi19a"
      }
    },
    {
      "cell_type": "code",
      "source": [
        "# Install dependencies\n",
        "\n",
        "!pip install wandb wandb-workspaces\n",
        "!add-apt-repository ppa:longsleep/golang-backports -y\n",
        "!apt update\n",
        "!apt install golang-go"
      ],
      "metadata": {
        "id": "99KU0ZiY4t36"
      },
      "execution_count": null,
      "outputs": []
    },
    {
      "cell_type": "code",
      "source": [
        "# makes formatting nicer (you might want to use dark mode on colab)\n",
        "%load_ext rich"
      ],
      "metadata": {
        "id": "0itfrwoY56Ue"
      },
      "execution_count": null,
      "outputs": []
    },
    {
      "cell_type": "code",
      "source": [
        "# Import dependencies\n",
        "\n",
        "import os\n",
        "import wandb\n",
        "import wandb_workspaces.workspaces as ws\n",
        "import wandb_workspaces.reports.v2 as wr # We use the Reports API panels"
      ],
      "metadata": {
        "id": "IQigRhck4zbF"
      },
      "execution_count": null,
      "outputs": []
    },
    {
      "cell_type": "markdown",
      "source": [
        "# Create a Project to interact with programmatically"
      ],
      "metadata": {
        "id": "1CAls6JljDFo"
      }
    },
    {
      "cell_type": "code",
      "source": [
        "# Initialize WandB\n",
        "wandb.login()\n",
        "\n",
        "# Function to create a new project and log sample data\n",
        "def create_project_and_log_data():\n",
        "    project = \"workspace-api-example\"  # Default project name\n",
        "\n",
        "    # Initialize a run to log some sample data\n",
        "    with wandb.init(project=project, name=\"sample_run\") as run:\n",
        "        for step in range(100):\n",
        "            wandb.log({\n",
        "                \"Step\": step,\n",
        "                \"val_loss\": 1.0 / (step + 1),\n",
        "                \"val_accuracy\": step / 100.0,\n",
        "                \"train_loss\": 1.0 / (step + 2),\n",
        "                \"train_accuracy\": step / 110.0,\n",
        "                \"f1_score\": step / 100.0,\n",
        "                \"recall\": step / 120.0,\n",
        "            })\n",
        "    return project\n",
        "\n",
        "# Create a new project and log data\n",
        "project = create_project_and_log_data()\n",
        "entity = wandb.Api().default_entity"
      ],
      "metadata": {
        "id": "rApkZmZB9Ueg"
      },
      "execution_count": null,
      "outputs": []
    },
    {
      "cell_type": "markdown",
      "source": [
        "# Summary of Programmatic Workspace features:\n",
        "The Weights & Biases Workspace API allows you to create, manage, and customize workspaces programmatically. These capabilities are designed to help you organize and visualize your machine learning experiments more effectively.\n",
        "\n",
        "\n",
        "### 1. Workspace Creation\n",
        "* **Define Create Workspaces:** You can create a workspace with a specific\n",
        "name, associate it with a project, and organize it into sections.\n",
        "* **Customization:** Customize each workspace with settings such as axis configurations, smoothing types, outlier handling, and more.\n",
        "\n",
        "### 2. Sections and Panels\n",
        "* **Sections:** Organize your workspace into multiple sections, each containing a specific set of panels. Sections can be opened or closed based on your preference.\n",
        "* **Panels:** Add various types of panels such as line plots, bar plots, and scalar charts to visualize different metrics.\n",
        "* **Layouts:** Customize the layout of panels within each section using standard or custom grid layouts.\n",
        "\n",
        "### 3. Workspace Settings\n",
        "* **Global Settings:** Configure global settings for the workspace, including axis settings, smoothing options, outlier handling, and tooltip settings.\n",
        "* **Section and Panel Settings:** Override global settings at the section or panel level to provide more granular control over the visualization.\n",
        "\n",
        "### 4. Run Management\n",
        "* **Run Sets:** Manage sets of runs in the workspace. Apply filters to include or exclude specific runs based on metrics or metadata.\n",
        "* **Grouping and Ordering:** Group and order runs within the run set to better analyze and compare different experiments.\n",
        "* **Run Customization:** Customize individual run settings such as color and visibility within the workspace..\n",
        "\n",
        "### 5. Filters and Queries\n",
        "* **Filter Expressions:** Apply complex filter expressions to include or exclude runs based on specific criteria.\n",
        "* **Regex Queries:** Use regular expressions to search and filter runs within the workspace.\n",
        "\n",
        "### 6. Saving and Loading Workspaces\n",
        "* **Save Workspaces:** Save the current state of a workspace, making it accessible as a `Saved view` from the Project.\n",
        "* **Load Workspaces:** Load an existing workspace from a URL to review or modify it.\n",
        "* **Clone Workspaces:** Save a modified workspace as a new view, allowing you to create multiple versions of a workspace without affecting the original."
      ],
      "metadata": {
        "id": "E7WAoOlsiQTL"
      }
    },
    {
      "cell_type": "code",
      "source": [
        "# Example 00: Creating a New Workspace with Sections and Panels\n",
        "def example_00(entity, project):\n",
        "    # Declare the workspace all at once\n",
        "    workspace = ws.Workspace(\n",
        "        name=\"Example W&B Workspace\",\n",
        "        entity=entity,\n",
        "        project=project,\n",
        "        sections=[\n",
        "            ws.Section(\n",
        "                name=\"Validation Metrics\",\n",
        "                panels=[\n",
        "                    wr.LinePlot(x=\"Step\", y=[\"val_loss\"]),\n",
        "                    wr.BarPlot(metrics=[\"val_accuracy\"]),\n",
        "                    wr.ScalarChart(metric=\"f1_score\", groupby_aggfunc=\"mean\"),\n",
        "                ],\n",
        "                is_open=True,\n",
        "            ),\n",
        "        ],\n",
        "    )\n",
        "\n",
        "    # Save the workspace to WandB\n",
        "    workspace.save()\n",
        "    print(\"Sample Workspace 00 saved.\")\n",
        "    return workspace.url\n",
        "\n",
        "# Run example 00 to create a workspace and get its URL\n",
        "workspace_url = example_00(entity, project)\n",
        "\n",
        "# Example 01: Loading and Cloning a Workspace\n",
        "def example_01(url):\n",
        "    # Load the workspace from the provided URL\n",
        "    workspace = ws.Workspace.from_url(url)\n",
        "\n",
        "    # Edit the workspace name and save it\n",
        "    workspace.name = \"Updated Workspace Name\"\n",
        "    workspace.save()\n",
        "    print(\"Workspace 01 updated and saved.\")\n",
        "\n",
        "    # Save the workspace as a new view\n",
        "    new_url = workspace.save_as_new_view()\n",
        "    print(f\"Workspace 01 saved as new view. New URL: {new_url}\")\n",
        "\n",
        "# Run example 01 with the URL from example 00\n",
        "example_01(workspace_url)\n",
        "\n",
        "# Example 02: Basic Workspace Settings\n",
        "def example_02(entity, project):\n",
        "    workspace = ws.Workspace(name=\"An example workspace\", entity=entity, project=project)\n",
        "\n",
        "    # Add sections with panels to the workspace\n",
        "    workspace.sections = [\n",
        "        ws.Section(\n",
        "            name=\"Validation\",\n",
        "            panels=[\n",
        "                wr.LinePlot(x=\"Step\", y=[\"val_loss\"]),\n",
        "                wr.LinePlot(x=\"Step\", y=[\"val_accuracy\"]),\n",
        "                wr.ScalarChart(metric=\"f1_score\", groupby_aggfunc=\"mean\"),\n",
        "                wr.ScalarChart(metric=\"recall\", groupby_aggfunc=\"mean\"),\n",
        "            ],\n",
        "            is_open=True,\n",
        "        ),\n",
        "        ws.Section(\n",
        "            name=\"Training\",\n",
        "            panels=[\n",
        "                wr.LinePlot(x=\"Step\", y=[\"train_loss\"]),\n",
        "                wr.LinePlot(x=\"Step\", y=[\"train_accuracy\"]),\n",
        "            ],\n",
        "        ),\n",
        "    ]\n",
        "\n",
        "    # Configure settings on the workspace\n",
        "    workspace.settings = ws.WorkspaceSettings(\n",
        "        x_min=0,\n",
        "        x_max=75,\n",
        "        smoothing_type=\"gaussian\",\n",
        "        point_visualization_method=\"bucketing\",\n",
        "    )\n",
        "\n",
        "    # Configure settings on individual sections\n",
        "    section = workspace.sections[0]\n",
        "    section.panel_settings = ws.SectionPanelSettings(\n",
        "        x_min=25,\n",
        "        x_max=50,\n",
        "        smoothing_type=\"none\",\n",
        "    )\n",
        "\n",
        "    # Configure settings on individual panels\n",
        "    panel = section.panels[0]\n",
        "    panel.title = \"Validation Loss Custom Title\"\n",
        "    panel.title_x = \"Custom x-axis title\"\n",
        "\n",
        "    # Save the workspace\n",
        "    workspace.save()\n",
        "    print(\"Workspace 02 with custom settings saved.\")\n",
        "\n",
        "# Example 03: Working with Filters\n",
        "def example_03(entity, project):\n",
        "    # Create filters using basic metrics and python expressions\n",
        "    val_loss_filter = ws.Metric(\"val_loss\") < 1\n",
        "\n",
        "    # Create filters using UI references like Name, Tags, or ID\n",
        "    run_name_filter = ws.Metric(\"Name\") == \"sample_run\"\n",
        "    run_id_filter = ws.Metric(\"ID\").isin([run.id for run in wandb.Api().runs(f\"{entity}/{project}\")])\n",
        "\n",
        "    # Create a workspace with filters\n",
        "    workspace = ws.Workspace(\n",
        "        name=\"An example workspace using filters\",\n",
        "        entity=entity,\n",
        "        project=project,\n",
        "        sections=[\n",
        "            ws.Section(\n",
        "                name=\"Validation\",\n",
        "                panels=[\n",
        "                    wr.LinePlot(x=\"Step\", y=[\"val_loss\"]),\n",
        "                    wr.LinePlot(x=\"Step\", y=[\"val_accuracy\"]),\n",
        "                ],\n",
        "                is_open=True,\n",
        "            ),\n",
        "        ],\n",
        "        runset_settings=ws.RunsetSettings(\n",
        "            filters=[\n",
        "                ws.Metric(\"Name\") == \"sample_run\",\n",
        "                ws.Metric(\"ID\").isin([run.id for run in wandb.Api().runs(f\"{entity}/{project}\")]),\n",
        "            ]\n",
        "        ),\n",
        "    )\n",
        "\n",
        "    # Save the workspace\n",
        "    workspace.save()\n",
        "    print(\"Workspace 03 with filters saved.\")\n"
      ],
      "metadata": {
        "id": "sWmN5lNJB-pH"
      },
      "execution_count": null,
      "outputs": []
    },
    {
      "cell_type": "code",
      "source": [
        "# Run example 00: Creating a New Workspace with Sections and Panels\n",
        "\n",
        "# Purpose: Demonstrates how to create a new workspace and populate it with sections and panels.\n",
        "# Benefit: Helps users organize and visualize their project metrics in a structured manner.\n",
        "\n",
        "example_00(entity,project)"
      ],
      "metadata": {
        "id": "sMZk9UWu9fMW"
      },
      "execution_count": null,
      "outputs": []
    },
    {
      "cell_type": "code",
      "source": [
        "# Run example 01: Loading and Cloning a Workspace\n",
        "\n",
        "# Purpose: Demonstrates how to load an existing workspace, modify it, and save it as a new view.\n",
        "# Benefit: Allows users to duplicate and customize workspaces without affecting the original setup.\n",
        "example_01(workspace_url)\n"
      ],
      "metadata": {
        "id": "_gWiaq_r9xIM"
      },
      "execution_count": null,
      "outputs": []
    },
    {
      "cell_type": "code",
      "source": [
        "# Run example 02: Basic Workspace Settings\n",
        "\n",
        "# Purpose: Demonstrates how to create a workspace, add sections with panels, and configure settings for the workspace and individual panels.\n",
        "# Benefit: Provides users with the ability to customize their workspace layout and visualization settings.\n",
        "\n",
        "example_02(entity, project)\n"
      ],
      "metadata": {
        "id": "irVaxJ289yMa"
      },
      "execution_count": null,
      "outputs": []
    },
    {
      "cell_type": "code",
      "source": [
        "# Run example 03: Working with Filters\n",
        "\n",
        "# Purpose: Demonstrates how to create a workspace using filters to manage runs based on specific criteria.\n",
        "# Benefit: Allows users to focus on specific subsets of their data, making it easier to analyze and compare results.\n",
        "\n",
        "example_03(entity, project)"
      ],
      "metadata": {
        "id": "fXCA2ln49zDF"
      },
      "execution_count": null,
      "outputs": []
    },
    {
      "cell_type": "markdown",
      "source": [],
      "metadata": {
        "id": "0LROCPiXi0Nh"
      }
    }
  ]
}