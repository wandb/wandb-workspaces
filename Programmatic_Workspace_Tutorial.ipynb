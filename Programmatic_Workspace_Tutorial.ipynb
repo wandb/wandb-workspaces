{
  "nbformat": 4,
  "nbformat_minor": 0,
  "metadata": {
    "colab": {
      "provenance": [],
      "authorship_tag": "ABX9TyOlO7ZZtJdsX8bGGQ3zkIpY",
      "include_colab_link": true
    },
    "kernelspec": {
      "name": "python3",
      "display_name": "Python 3"
    },
    "language_info": {
      "name": "python"
    },
    "widgets": {
      "application/vnd.jupyter.widget-state+json": {
        "56ecad80e9d84e608bbc5b10d30d51c0": {
          "model_module": "@jupyter-widgets/controls",
          "model_name": "VBoxModel",
          "model_module_version": "1.5.0",
          "state": {
            "_dom_classes": [],
            "_model_module": "@jupyter-widgets/controls",
            "_model_module_version": "1.5.0",
            "_model_name": "VBoxModel",
            "_view_count": null,
            "_view_module": "@jupyter-widgets/controls",
            "_view_module_version": "1.5.0",
            "_view_name": "VBoxView",
            "box_style": "",
            "children": [
              "IPY_MODEL_8d55aabf409c40b1bc035129e4ef8915",
              "IPY_MODEL_e2591d8d7bcb4464b762fe7aa313812f"
            ],
            "layout": "IPY_MODEL_797e2e914fc74cce8e2bcef753e3aa57"
          }
        },
        "8d55aabf409c40b1bc035129e4ef8915": {
          "model_module": "@jupyter-widgets/controls",
          "model_name": "LabelModel",
          "model_module_version": "1.5.0",
          "state": {
            "_dom_classes": [],
            "_model_module": "@jupyter-widgets/controls",
            "_model_module_version": "1.5.0",
            "_model_name": "LabelModel",
            "_view_count": null,
            "_view_module": "@jupyter-widgets/controls",
            "_view_module_version": "1.5.0",
            "_view_name": "LabelView",
            "description": "",
            "description_tooltip": null,
            "layout": "IPY_MODEL_5b7404a02c754ab682f4dcdf10b577f9",
            "placeholder": "​",
            "style": "IPY_MODEL_73d4775311e34d8189c3a5248a20800e",
            "value": "0.076 MB of 0.076 MB uploaded (0.009 MB deduped)\r"
          }
        },
        "e2591d8d7bcb4464b762fe7aa313812f": {
          "model_module": "@jupyter-widgets/controls",
          "model_name": "FloatProgressModel",
          "model_module_version": "1.5.0",
          "state": {
            "_dom_classes": [],
            "_model_module": "@jupyter-widgets/controls",
            "_model_module_version": "1.5.0",
            "_model_name": "FloatProgressModel",
            "_view_count": null,
            "_view_module": "@jupyter-widgets/controls",
            "_view_module_version": "1.5.0",
            "_view_name": "ProgressView",
            "bar_style": "",
            "description": "",
            "description_tooltip": null,
            "layout": "IPY_MODEL_d8e6ae6da6a0431885e8ece4bd8f0a97",
            "max": 1,
            "min": 0,
            "orientation": "horizontal",
            "style": "IPY_MODEL_75423b927ee44175a69027d034376a90",
            "value": 1
          }
        },
        "797e2e914fc74cce8e2bcef753e3aa57": {
          "model_module": "@jupyter-widgets/base",
          "model_name": "LayoutModel",
          "model_module_version": "1.2.0",
          "state": {
            "_model_module": "@jupyter-widgets/base",
            "_model_module_version": "1.2.0",
            "_model_name": "LayoutModel",
            "_view_count": null,
            "_view_module": "@jupyter-widgets/base",
            "_view_module_version": "1.2.0",
            "_view_name": "LayoutView",
            "align_content": null,
            "align_items": null,
            "align_self": null,
            "border": null,
            "bottom": null,
            "display": null,
            "flex": null,
            "flex_flow": null,
            "grid_area": null,
            "grid_auto_columns": null,
            "grid_auto_flow": null,
            "grid_auto_rows": null,
            "grid_column": null,
            "grid_gap": null,
            "grid_row": null,
            "grid_template_areas": null,
            "grid_template_columns": null,
            "grid_template_rows": null,
            "height": null,
            "justify_content": null,
            "justify_items": null,
            "left": null,
            "margin": null,
            "max_height": null,
            "max_width": null,
            "min_height": null,
            "min_width": null,
            "object_fit": null,
            "object_position": null,
            "order": null,
            "overflow": null,
            "overflow_x": null,
            "overflow_y": null,
            "padding": null,
            "right": null,
            "top": null,
            "visibility": null,
            "width": null
          }
        },
        "5b7404a02c754ab682f4dcdf10b577f9": {
          "model_module": "@jupyter-widgets/base",
          "model_name": "LayoutModel",
          "model_module_version": "1.2.0",
          "state": {
            "_model_module": "@jupyter-widgets/base",
            "_model_module_version": "1.2.0",
            "_model_name": "LayoutModel",
            "_view_count": null,
            "_view_module": "@jupyter-widgets/base",
            "_view_module_version": "1.2.0",
            "_view_name": "LayoutView",
            "align_content": null,
            "align_items": null,
            "align_self": null,
            "border": null,
            "bottom": null,
            "display": null,
            "flex": null,
            "flex_flow": null,
            "grid_area": null,
            "grid_auto_columns": null,
            "grid_auto_flow": null,
            "grid_auto_rows": null,
            "grid_column": null,
            "grid_gap": null,
            "grid_row": null,
            "grid_template_areas": null,
            "grid_template_columns": null,
            "grid_template_rows": null,
            "height": null,
            "justify_content": null,
            "justify_items": null,
            "left": null,
            "margin": null,
            "max_height": null,
            "max_width": null,
            "min_height": null,
            "min_width": null,
            "object_fit": null,
            "object_position": null,
            "order": null,
            "overflow": null,
            "overflow_x": null,
            "overflow_y": null,
            "padding": null,
            "right": null,
            "top": null,
            "visibility": null,
            "width": null
          }
        },
        "73d4775311e34d8189c3a5248a20800e": {
          "model_module": "@jupyter-widgets/controls",
          "model_name": "DescriptionStyleModel",
          "model_module_version": "1.5.0",
          "state": {
            "_model_module": "@jupyter-widgets/controls",
            "_model_module_version": "1.5.0",
            "_model_name": "DescriptionStyleModel",
            "_view_count": null,
            "_view_module": "@jupyter-widgets/base",
            "_view_module_version": "1.2.0",
            "_view_name": "StyleView",
            "description_width": ""
          }
        },
        "d8e6ae6da6a0431885e8ece4bd8f0a97": {
          "model_module": "@jupyter-widgets/base",
          "model_name": "LayoutModel",
          "model_module_version": "1.2.0",
          "state": {
            "_model_module": "@jupyter-widgets/base",
            "_model_module_version": "1.2.0",
            "_model_name": "LayoutModel",
            "_view_count": null,
            "_view_module": "@jupyter-widgets/base",
            "_view_module_version": "1.2.0",
            "_view_name": "LayoutView",
            "align_content": null,
            "align_items": null,
            "align_self": null,
            "border": null,
            "bottom": null,
            "display": null,
            "flex": null,
            "flex_flow": null,
            "grid_area": null,
            "grid_auto_columns": null,
            "grid_auto_flow": null,
            "grid_auto_rows": null,
            "grid_column": null,
            "grid_gap": null,
            "grid_row": null,
            "grid_template_areas": null,
            "grid_template_columns": null,
            "grid_template_rows": null,
            "height": null,
            "justify_content": null,
            "justify_items": null,
            "left": null,
            "margin": null,
            "max_height": null,
            "max_width": null,
            "min_height": null,
            "min_width": null,
            "object_fit": null,
            "object_position": null,
            "order": null,
            "overflow": null,
            "overflow_x": null,
            "overflow_y": null,
            "padding": null,
            "right": null,
            "top": null,
            "visibility": null,
            "width": null
          }
        },
        "75423b927ee44175a69027d034376a90": {
          "model_module": "@jupyter-widgets/controls",
          "model_name": "ProgressStyleModel",
          "model_module_version": "1.5.0",
          "state": {
            "_model_module": "@jupyter-widgets/controls",
            "_model_module_version": "1.5.0",
            "_model_name": "ProgressStyleModel",
            "_view_count": null,
            "_view_module": "@jupyter-widgets/base",
            "_view_module_version": "1.2.0",
            "_view_name": "StyleView",
            "bar_color": null,
            "description_width": ""
          }
        }
      }
    }
  },
  "cells": [
    {
      "cell_type": "markdown",
      "metadata": {
        "id": "view-in-github",
        "colab_type": "text"
      },
      "source": [
        "<a href=\"https://colab.research.google.com/github/wandb/wandb-workspaces/blob/example-notebook/Programmatic_Workspace_Tutorial.ipynb\" target=\"_parent\"><img src=\"https://colab.research.google.com/assets/colab-badge.svg\" alt=\"Open In Colab\"/></a>"
      ]
    },
    {
      "cell_type": "markdown",
      "source": [],
      "metadata": {
        "id": "po7Xf9qF5Aem"
      }
    },
    {
      "cell_type": "markdown",
      "source": [
        "\n",
        "# Sample Notebook for [Weights & Biases Programmatic Workspace](https://docs.wandb.ai/guides/app/pages/workspaces#saved-workspace-views)\n",
        "\n",
        "\n",
        "### Overview\n",
        "* [wandb-workspaces](https://github.com/wandb/wandb-workspaces/tree/main) is a Python library for programmatically working with Weights & Biases workspaces and Reports. You can define a workspace programmatically by defining the workspace's properties, such as its name, associated entity and project, and the sections it should contain.\n",
        "\n",
        "* Programmatically create and customize workspaces by defining configurations, setting panel layouts, and organizing sections. Load and modify workspaces via URL, filter and group runs using expressions, and customize run appearances. Easily copy views across workspaces for integration.\n",
        "\n",
        "### Known limitations\n",
        "* Only compatible with Saved Views (URLs ending with ?nw=...). Clone a `Personal Workspace` as `Saved Views` for programmatic interaction.\n",
        "\n",
        "### Notebook Instructions:\n",
        "\n",
        "* Run each cell step by step. The notebook will log sample data to a project named `workspace-api-example`.\n",
        "* The notebook will create the project, log sample a to it, and then demonstrate the workspace examples using this data."
      ],
      "metadata": {
        "id": "MmxL0wjvrNtQ"
      }
    },
    {
      "cell_type": "markdown",
      "source": [
        "# Install and Import Dependencies"
      ],
      "metadata": {
        "id": "X6AencUCi19a"
      }
    },
    {
      "cell_type": "code",
      "source": [
        "# Install dependencies\n",
        "\n",
        "!pip install wandb wandb-workspaces\n",
        "!add-apt-repository ppa:longsleep/golang-backports -y\n",
        "!apt update\n",
        "!apt install golang-go"
      ],
      "metadata": {
        "colab": {
          "base_uri": "https://localhost:8080/"
        },
        "id": "99KU0ZiY4t36",
        "outputId": "a4043a1e-b7fc-461b-f112-a8953c5cdbb7"
      },
      "execution_count": 3,
      "outputs": [
        {
          "output_type": "stream",
          "name": "stdout",
          "text": [
            "Collecting wandb\n",
            "  Downloading wandb-0.17.3-py3-none-manylinux_2_5_x86_64.manylinux1_x86_64.manylinux_2_17_x86_64.manylinux2014_x86_64.whl (6.9 MB)\n",
            "\u001b[2K     \u001b[90m━━━━━━━━━━━━━━━━━━━━━━━━━━━━━━━━━━━━━━━━\u001b[0m \u001b[32m6.9/6.9 MB\u001b[0m \u001b[31m23.2 MB/s\u001b[0m eta \u001b[36m0:00:00\u001b[0m\n",
            "\u001b[?25hCollecting wandb-workspaces\n",
            "  Downloading wandb_workspaces-0.1.7-py3-none-any.whl (76 kB)\n",
            "\u001b[2K     \u001b[90m━━━━━━━━━━━━━━━━━━━━━━━━━━━━━━━━━━━━━━━━\u001b[0m \u001b[32m76.3/76.3 kB\u001b[0m \u001b[31m7.1 MB/s\u001b[0m eta \u001b[36m0:00:00\u001b[0m\n",
            "\u001b[?25hRequirement already satisfied: click!=8.0.0,>=7.1 in /usr/local/lib/python3.10/dist-packages (from wandb) (8.1.7)\n",
            "Collecting docker-pycreds>=0.4.0 (from wandb)\n",
            "  Downloading docker_pycreds-0.4.0-py2.py3-none-any.whl (9.0 kB)\n",
            "Collecting gitpython!=3.1.29,>=1.0.0 (from wandb)\n",
            "  Downloading GitPython-3.1.43-py3-none-any.whl (207 kB)\n",
            "\u001b[2K     \u001b[90m━━━━━━━━━━━━━━━━━━━━━━━━━━━━━━━━━━━━━━━━\u001b[0m \u001b[32m207.3/207.3 kB\u001b[0m \u001b[31m17.5 MB/s\u001b[0m eta \u001b[36m0:00:00\u001b[0m\n",
            "\u001b[?25hRequirement already satisfied: platformdirs in /usr/local/lib/python3.10/dist-packages (from wandb) (4.2.2)\n",
            "Requirement already satisfied: protobuf!=4.21.0,<6,>=3.19.0 in /usr/local/lib/python3.10/dist-packages (from wandb) (3.20.3)\n",
            "Requirement already satisfied: psutil>=5.0.0 in /usr/local/lib/python3.10/dist-packages (from wandb) (5.9.5)\n",
            "Requirement already satisfied: pyyaml in /usr/local/lib/python3.10/dist-packages (from wandb) (6.0.1)\n",
            "Requirement already satisfied: requests<3,>=2.0.0 in /usr/local/lib/python3.10/dist-packages (from wandb) (2.31.0)\n",
            "Collecting sentry-sdk>=1.0.0 (from wandb)\n",
            "  Downloading sentry_sdk-2.7.1-py2.py3-none-any.whl (300 kB)\n",
            "\u001b[2K     \u001b[90m━━━━━━━━━━━━━━━━━━━━━━━━━━━━━━━━━━━━━━━━\u001b[0m \u001b[32m300.2/300.2 kB\u001b[0m \u001b[31m23.4 MB/s\u001b[0m eta \u001b[36m0:00:00\u001b[0m\n",
            "\u001b[?25hCollecting setproctitle (from wandb)\n",
            "  Downloading setproctitle-1.3.3-cp310-cp310-manylinux_2_5_x86_64.manylinux1_x86_64.manylinux_2_17_x86_64.manylinux2014_x86_64.whl (30 kB)\n",
            "Requirement already satisfied: setuptools in /usr/local/lib/python3.10/dist-packages (from wandb) (67.7.2)\n",
            "Requirement already satisfied: pydantic>=2.7 in /usr/local/lib/python3.10/dist-packages (from wandb-workspaces) (2.7.4)\n",
            "Requirement already satisfied: six>=1.4.0 in /usr/local/lib/python3.10/dist-packages (from docker-pycreds>=0.4.0->wandb) (1.16.0)\n",
            "Collecting gitdb<5,>=4.0.1 (from gitpython!=3.1.29,>=1.0.0->wandb)\n",
            "  Downloading gitdb-4.0.11-py3-none-any.whl (62 kB)\n",
            "\u001b[2K     \u001b[90m━━━━━━━━━━━━━━━━━━━━━━━━━━━━━━━━━━━━━━━━\u001b[0m \u001b[32m62.7/62.7 kB\u001b[0m \u001b[31m5.9 MB/s\u001b[0m eta \u001b[36m0:00:00\u001b[0m\n",
            "\u001b[?25hRequirement already satisfied: annotated-types>=0.4.0 in /usr/local/lib/python3.10/dist-packages (from pydantic>=2.7->wandb-workspaces) (0.7.0)\n",
            "Requirement already satisfied: pydantic-core==2.18.4 in /usr/local/lib/python3.10/dist-packages (from pydantic>=2.7->wandb-workspaces) (2.18.4)\n",
            "Requirement already satisfied: typing-extensions>=4.6.1 in /usr/local/lib/python3.10/dist-packages (from pydantic>=2.7->wandb-workspaces) (4.12.2)\n",
            "Requirement already satisfied: charset-normalizer<4,>=2 in /usr/local/lib/python3.10/dist-packages (from requests<3,>=2.0.0->wandb) (3.3.2)\n",
            "Requirement already satisfied: idna<4,>=2.5 in /usr/local/lib/python3.10/dist-packages (from requests<3,>=2.0.0->wandb) (3.7)\n",
            "Requirement already satisfied: urllib3<3,>=1.21.1 in /usr/local/lib/python3.10/dist-packages (from requests<3,>=2.0.0->wandb) (2.0.7)\n",
            "Requirement already satisfied: certifi>=2017.4.17 in /usr/local/lib/python3.10/dist-packages (from requests<3,>=2.0.0->wandb) (2024.6.2)\n",
            "Collecting smmap<6,>=3.0.1 (from gitdb<5,>=4.0.1->gitpython!=3.1.29,>=1.0.0->wandb)\n",
            "  Downloading smmap-5.0.1-py3-none-any.whl (24 kB)\n",
            "Installing collected packages: smmap, setproctitle, sentry-sdk, docker-pycreds, gitdb, gitpython, wandb, wandb-workspaces\n",
            "Successfully installed docker-pycreds-0.4.0 gitdb-4.0.11 gitpython-3.1.43 sentry-sdk-2.7.1 setproctitle-1.3.3 smmap-5.0.1 wandb-0.17.3 wandb-workspaces-0.1.7\n",
            "Repository: 'deb https://ppa.launchpadcontent.net/longsleep/golang-backports/ubuntu/ jammy main'\n",
            "Description:\n",
            "Golang 1.12, 1.13, 1.14, 1.15, 1.16, 1.17, 1.18, 1.19, 1.20, 1.21 and 1.22 PPA for Ubuntu\n",
            "\n",
            "See https://github.com/longsleep/golang-deb for the sources for the packages in this PPA and for reporting issues / change requests.\n",
            "More info: https://launchpad.net/~longsleep/+archive/ubuntu/golang-backports\n",
            "Adding repository.\n",
            "Adding deb entry to /etc/apt/sources.list.d/longsleep-ubuntu-golang-backports-jammy.list\n",
            "Adding disabled deb-src entry to /etc/apt/sources.list.d/longsleep-ubuntu-golang-backports-jammy.list\n",
            "Adding key to /etc/apt/trusted.gpg.d/longsleep-ubuntu-golang-backports.gpg with fingerprint 52B59B1571A79DBC054901C0F6BC817356A3D45E\n",
            "Get:1 http://security.ubuntu.com/ubuntu jammy-security InRelease [129 kB]\n",
            "Get:2 https://cloud.r-project.org/bin/linux/ubuntu jammy-cran40/ InRelease [3,626 B]\n",
            "Hit:3 https://ppa.launchpadcontent.net/c2d4u.team/c2d4u4.0+/ubuntu jammy InRelease\n",
            "Get:4 https://developer.download.nvidia.com/compute/cuda/repos/ubuntu2204/x86_64  InRelease [1,581 B]\n",
            "Hit:5 https://ppa.launchpadcontent.net/deadsnakes/ppa/ubuntu jammy InRelease\n",
            "Hit:6 https://ppa.launchpadcontent.net/graphics-drivers/ppa/ubuntu jammy InRelease\n",
            "Hit:7 http://archive.ubuntu.com/ubuntu jammy InRelease\n",
            "Get:8 https://ppa.launchpadcontent.net/longsleep/golang-backports/ubuntu jammy InRelease [18.3 kB]\n",
            "Hit:9 https://ppa.launchpadcontent.net/ubuntugis/ppa/ubuntu jammy InRelease\n",
            "Get:10 http://archive.ubuntu.com/ubuntu jammy-updates InRelease [128 kB]\n",
            "Get:11 http://security.ubuntu.com/ubuntu jammy-security/universe amd64 Packages [1,119 kB]\n",
            "Get:12 http://security.ubuntu.com/ubuntu jammy-security/main amd64 Packages [1,988 kB]\n",
            "Get:13 http://security.ubuntu.com/ubuntu jammy-security/restricted amd64 Packages [2,580 kB]\n",
            "Hit:14 http://archive.ubuntu.com/ubuntu jammy-backports InRelease\n",
            "Get:15 https://developer.download.nvidia.com/compute/cuda/repos/ubuntu2204/x86_64  Packages [970 kB]\n",
            "Get:16 https://ppa.launchpadcontent.net/longsleep/golang-backports/ubuntu jammy/main amd64 Packages [6,138 B]\n",
            "Get:17 http://archive.ubuntu.com/ubuntu jammy-updates/main amd64 Packages [2,255 kB]\n",
            "Get:18 http://archive.ubuntu.com/ubuntu jammy-updates/restricted amd64 Packages [2,659 kB]\n",
            "Get:19 http://archive.ubuntu.com/ubuntu jammy-updates/universe amd64 Packages [1,403 kB]\n",
            "Fetched 13.3 MB in 3s (4,272 kB/s)\n",
            "Reading package lists... Done\n",
            "Hit:1 http://security.ubuntu.com/ubuntu jammy-security InRelease\n",
            "Hit:2 https://cloud.r-project.org/bin/linux/ubuntu jammy-cran40/ InRelease\n",
            "Hit:3 https://developer.download.nvidia.com/compute/cuda/repos/ubuntu2204/x86_64  InRelease\n",
            "Hit:4 https://ppa.launchpadcontent.net/c2d4u.team/c2d4u4.0+/ubuntu jammy InRelease\n",
            "Hit:5 https://ppa.launchpadcontent.net/deadsnakes/ppa/ubuntu jammy InRelease\n",
            "Hit:6 https://ppa.launchpadcontent.net/graphics-drivers/ppa/ubuntu jammy InRelease\n",
            "Hit:7 http://archive.ubuntu.com/ubuntu jammy InRelease\n",
            "Hit:8 https://ppa.launchpadcontent.net/longsleep/golang-backports/ubuntu jammy InRelease\n",
            "Hit:9 https://ppa.launchpadcontent.net/ubuntugis/ppa/ubuntu jammy InRelease\n",
            "Hit:10 http://archive.ubuntu.com/ubuntu jammy-updates InRelease\n",
            "Hit:11 http://archive.ubuntu.com/ubuntu jammy-backports InRelease\n",
            "Reading package lists... Done\n",
            "Building dependency tree... Done\n",
            "Reading state information... Done\n",
            "46 packages can be upgraded. Run 'apt list --upgradable' to see them.\n",
            "Reading package lists... Done\n",
            "Building dependency tree... Done\n",
            "Reading state information... Done\n",
            "The following additional packages will be installed:\n",
            "  golang-1.22-go golang-1.22-src golang-src\n",
            "Suggested packages:\n",
            "  bzr | brz mercurial subversion\n",
            "The following NEW packages will be installed:\n",
            "  golang-1.22-go golang-1.22-src golang-go golang-src\n",
            "0 upgraded, 4 newly installed, 0 to remove and 46 not upgraded.\n",
            "Need to get 43.7 MB of archives.\n",
            "After this operation, 228 MB of additional disk space will be used.\n",
            "Get:1 https://ppa.launchpadcontent.net/longsleep/golang-backports/ubuntu jammy/main amd64 golang-1.22-src all 1.22.4-1longsleep1+focal [18.9 MB]\n",
            "Get:2 https://ppa.launchpadcontent.net/longsleep/golang-backports/ubuntu jammy/main amd64 golang-1.22-go amd64 1.22.4-1longsleep1+focal [24.7 MB]\n",
            "Get:3 https://ppa.launchpadcontent.net/longsleep/golang-backports/ubuntu jammy/main amd64 golang-src all 2:1.22~3longsleep1 [6,160 B]\n",
            "Get:4 https://ppa.launchpadcontent.net/longsleep/golang-backports/ubuntu jammy/main amd64 golang-go amd64 2:1.22~3longsleep1 [45.4 kB]\n",
            "Fetched 43.7 MB in 5s (8,313 kB/s)\n",
            "Selecting previously unselected package golang-1.22-src.\n",
            "(Reading database ... 121925 files and directories currently installed.)\n",
            "Preparing to unpack .../golang-1.22-src_1.22.4-1longsleep1+focal_all.deb ...\n",
            "Unpacking golang-1.22-src (1.22.4-1longsleep1+focal) ...\n",
            "Selecting previously unselected package golang-1.22-go.\n",
            "Preparing to unpack .../golang-1.22-go_1.22.4-1longsleep1+focal_amd64.deb ...\n",
            "Unpacking golang-1.22-go (1.22.4-1longsleep1+focal) ...\n",
            "Selecting previously unselected package golang-src.\n",
            "Preparing to unpack .../golang-src_2%3a1.22~3longsleep1_all.deb ...\n",
            "Unpacking golang-src (2:1.22~3longsleep1) ...\n",
            "Selecting previously unselected package golang-go:amd64.\n",
            "Preparing to unpack .../golang-go_2%3a1.22~3longsleep1_amd64.deb ...\n",
            "Unpacking golang-go:amd64 (2:1.22~3longsleep1) ...\n",
            "Setting up golang-1.22-src (1.22.4-1longsleep1+focal) ...\n",
            "Setting up golang-src (2:1.22~3longsleep1) ...\n",
            "Setting up golang-1.22-go (1.22.4-1longsleep1+focal) ...\n",
            "Setting up golang-go:amd64 (2:1.22~3longsleep1) ...\n",
            "Processing triggers for man-db (2.10.2-1) ...\n"
          ]
        }
      ]
    },
    {
      "cell_type": "code",
      "source": [
        "# makes formatting nicer (you might want to use dark mode on colab)\n",
        "%load_ext rich"
      ],
      "metadata": {
        "id": "0itfrwoY56Ue"
      },
      "execution_count": 4,
      "outputs": []
    },
    {
      "cell_type": "code",
      "source": [
        "# Import dependencies\n",
        "\n",
        "import os\n",
        "import wandb\n",
        "import wandb_workspaces.workspaces as ws\n",
        "import wandb_workspaces.reports.v2 as wr # We use the Reports API panels"
      ],
      "metadata": {
        "id": "IQigRhck4zbF"
      },
      "execution_count": 5,
      "outputs": []
    },
    {
      "cell_type": "markdown",
      "source": [
        "# Create a Project to interact with programmatically"
      ],
      "metadata": {
        "id": "1CAls6JljDFo"
      }
    },
    {
      "cell_type": "code",
      "source": [
        "# Initialize WandB\n",
        "wandb.login()\n",
        "\n",
        "# Function to create a new project and log sample data\n",
        "def create_project_and_log_data():\n",
        "    project = \"workspace-api-example\"  # Default project name\n",
        "\n",
        "    # Initialize a run to log some sample data\n",
        "    with wandb.init(project=project, name=\"sample_run\") as run:\n",
        "        for step in range(100):\n",
        "            wandb.log({\n",
        "                \"Step\": step,\n",
        "                \"val_loss\": 1.0 / (step + 1),\n",
        "                \"val_accuracy\": step / 100.0,\n",
        "                \"train_loss\": 1.0 / (step + 2),\n",
        "                \"train_accuracy\": step / 110.0,\n",
        "                \"f1_score\": step / 100.0,\n",
        "                \"recall\": step / 120.0,\n",
        "            })\n",
        "    return project\n",
        "\n",
        "# Create a new project and log data\n",
        "project = create_project_and_log_data()\n",
        "entity = wandb.Api().default_entity"
      ],
      "metadata": {
        "colab": {
          "base_uri": "https://localhost:8080/",
          "height": 551,
          "referenced_widgets": [
            "56ecad80e9d84e608bbc5b10d30d51c0",
            "8d55aabf409c40b1bc035129e4ef8915",
            "e2591d8d7bcb4464b762fe7aa313812f",
            "797e2e914fc74cce8e2bcef753e3aa57",
            "5b7404a02c754ab682f4dcdf10b577f9",
            "73d4775311e34d8189c3a5248a20800e",
            "d8e6ae6da6a0431885e8ece4bd8f0a97",
            "75423b927ee44175a69027d034376a90"
          ]
        },
        "id": "rApkZmZB9Ueg",
        "outputId": "b8630771-55b7-434d-d032-e91b6b2cd30a"
      },
      "execution_count": 6,
      "outputs": [
        {
          "output_type": "display_data",
          "data": {
            "text/plain": [],
            "text/html": [
              "<pre style=\"white-space:pre;overflow-x:auto;line-height:normal;font-family:Menlo,'DejaVu Sans Mono',consolas,'Courier New',monospace\"></pre>\n"
            ]
          },
          "metadata": {}
        },
        {
          "output_type": "display_data",
          "data": {
            "text/plain": [
              "\u001b[1m<\u001b[0m\u001b[1;95mIPython.core.display.Javascript\u001b[0m\u001b[39m object\u001b[0m\u001b[1m>\u001b[0m"
            ],
            "application/javascript": [
              "\n",
              "        window._wandbApiKey = new Promise((resolve, reject) => {\n",
              "            function loadScript(url) {\n",
              "            return new Promise(function(resolve, reject) {\n",
              "                let newScript = document.createElement(\"script\");\n",
              "                newScript.onerror = reject;\n",
              "                newScript.onload = resolve;\n",
              "                document.body.appendChild(newScript);\n",
              "                newScript.src = url;\n",
              "            });\n",
              "            }\n",
              "            loadScript(\"https://cdn.jsdelivr.net/npm/postmate/build/postmate.min.js\").then(() => {\n",
              "            const iframe = document.createElement('iframe')\n",
              "            iframe.style.cssText = \"width:0;height:0;border:none\"\n",
              "            document.body.appendChild(iframe)\n",
              "            const handshake = new Postmate({\n",
              "                container: iframe,\n",
              "                url: 'https://wandb.ai/authorize'\n",
              "            });\n",
              "            const timeout = setTimeout(() => reject(\"Couldn't auto authenticate\"), 5000)\n",
              "            handshake.then(function(child) {\n",
              "                child.on('authorize', data => {\n",
              "                    clearTimeout(timeout)\n",
              "                    resolve(data)\n",
              "                });\n",
              "            });\n",
              "            })\n",
              "        });\n",
              "    "
            ]
          },
          "metadata": {}
        },
        {
          "output_type": "stream",
          "name": "stderr",
          "text": [
            "\u001b[34m\u001b[1mwandb\u001b[0m: Logging into wandb.ai. (Learn how to deploy a W&B server locally: https://wandb.me/wandb-server)\n",
            "\u001b[34m\u001b[1mwandb\u001b[0m: You can find your API key in your browser here: https://wandb.ai/authorize\n",
            "wandb: Paste an API key from your profile and hit enter, or press ctrl+c to quit:"
          ]
        },
        {
          "name": "stdout",
          "output_type": "stream",
          "text": [
            " ··········\n"
          ]
        },
        {
          "output_type": "stream",
          "name": "stderr",
          "text": [
            "\u001b[34m\u001b[1mwandb\u001b[0m: Appending key for api.wandb.ai to your netrc file: /root/.netrc\n",
            "\u001b[34m\u001b[1mwandb\u001b[0m: Currently logged in as: \u001b[33msephmard\u001b[0m (\u001b[33mwandb\u001b[0m). Use \u001b[1m`wandb login --relogin`\u001b[0m to force relogin\n"
          ]
        },
        {
          "output_type": "display_data",
          "data": {
            "text/plain": [],
            "text/html": [
              "<pre style=\"white-space:pre;overflow-x:auto;line-height:normal;font-family:Menlo,'DejaVu Sans Mono',consolas,'Courier New',monospace\"></pre>\n"
            ]
          },
          "metadata": {}
        },
        {
          "output_type": "display_data",
          "data": {
            "text/plain": [
              "\u001b[1m<\u001b[0m\u001b[1;95mIPython.core.display.HTML\u001b[0m\u001b[39m object\u001b[0m\u001b[1m>\u001b[0m"
            ],
            "text/html": [
              "Tracking run with wandb version 0.17.3"
            ]
          },
          "metadata": {}
        },
        {
          "output_type": "display_data",
          "data": {
            "text/plain": [],
            "text/html": [
              "<pre style=\"white-space:pre;overflow-x:auto;line-height:normal;font-family:Menlo,'DejaVu Sans Mono',consolas,'Courier New',monospace\"></pre>\n"
            ]
          },
          "metadata": {}
        },
        {
          "output_type": "display_data",
          "data": {
            "text/plain": [
              "\u001b[1m<\u001b[0m\u001b[1;95mIPython.core.display.HTML\u001b[0m\u001b[39m object\u001b[0m\u001b[1m>\u001b[0m"
            ],
            "text/html": [
              "Run data is saved locally in <code>/content/wandb/run-20240703_131229-j4icwtd1</code>"
            ]
          },
          "metadata": {}
        },
        {
          "output_type": "display_data",
          "data": {
            "text/plain": [],
            "text/html": [
              "<pre style=\"white-space:pre;overflow-x:auto;line-height:normal;font-family:Menlo,'DejaVu Sans Mono',consolas,'Courier New',monospace\"></pre>\n"
            ]
          },
          "metadata": {}
        },
        {
          "output_type": "display_data",
          "data": {
            "text/plain": [
              "\u001b[1m<\u001b[0m\u001b[1;95mIPython.core.display.HTML\u001b[0m\u001b[39m object\u001b[0m\u001b[1m>\u001b[0m"
            ],
            "text/html": [
              "Syncing run <strong><a href='https://wandb.ai/wandb/workspace-api-example/runs/j4icwtd1' target=\"_blank\">sample_run</a></strong> to <a href='https://wandb.ai/wandb/workspace-api-example' target=\"_blank\">Weights & Biases</a> (<a href='https://wandb.me/run' target=\"_blank\">docs</a>)<br/>"
            ]
          },
          "metadata": {}
        },
        {
          "output_type": "display_data",
          "data": {
            "text/plain": [],
            "text/html": [
              "<pre style=\"white-space:pre;overflow-x:auto;line-height:normal;font-family:Menlo,'DejaVu Sans Mono',consolas,'Courier New',monospace\"></pre>\n"
            ]
          },
          "metadata": {}
        },
        {
          "output_type": "display_data",
          "data": {
            "text/plain": [
              "\u001b[1m<\u001b[0m\u001b[1;95mIPython.core.display.HTML\u001b[0m\u001b[39m object\u001b[0m\u001b[1m>\u001b[0m"
            ],
            "text/html": [
              " View project at <a href='https://wandb.ai/wandb/workspace-api-example' target=\"_blank\">https://wandb.ai/wandb/workspace-api-example</a>"
            ]
          },
          "metadata": {}
        },
        {
          "output_type": "display_data",
          "data": {
            "text/plain": [],
            "text/html": [
              "<pre style=\"white-space:pre;overflow-x:auto;line-height:normal;font-family:Menlo,'DejaVu Sans Mono',consolas,'Courier New',monospace\"></pre>\n"
            ]
          },
          "metadata": {}
        },
        {
          "output_type": "display_data",
          "data": {
            "text/plain": [
              "\u001b[1m<\u001b[0m\u001b[1;95mIPython.core.display.HTML\u001b[0m\u001b[39m object\u001b[0m\u001b[1m>\u001b[0m"
            ],
            "text/html": [
              " View run at <a href='https://wandb.ai/wandb/workspace-api-example/runs/j4icwtd1' target=\"_blank\">https://wandb.ai/wandb/workspace-api-example/runs/j4icwtd1</a>"
            ]
          },
          "metadata": {}
        },
        {
          "output_type": "display_data",
          "data": {
            "text/plain": [
              "VBox(children=(Label(value='0.055 MB of 0.065 MB uploaded (0.009 MB deduped)\\r'), FloatProgress(value=0.853242…"
            ],
            "application/vnd.jupyter.widget-view+json": {
              "version_major": 2,
              "version_minor": 0,
              "model_id": "56ecad80e9d84e608bbc5b10d30d51c0"
            }
          },
          "metadata": {}
        },
        {
          "output_type": "display_data",
          "data": {
            "text/plain": [],
            "text/html": [
              "<pre style=\"white-space:pre;overflow-x:auto;line-height:normal;font-family:Menlo,'DejaVu Sans Mono',consolas,'Courier New',monospace\"></pre>\n"
            ]
          },
          "metadata": {}
        },
        {
          "output_type": "display_data",
          "data": {
            "text/plain": [
              "\u001b[1m<\u001b[0m\u001b[1;95mIPython.core.display.HTML\u001b[0m\u001b[39m object\u001b[0m\u001b[1m>\u001b[0m"
            ],
            "text/html": [
              "W&B sync reduced upload amount by 11.6%             "
            ]
          },
          "metadata": {}
        },
        {
          "output_type": "display_data",
          "data": {
            "text/plain": [],
            "text/html": [
              "<pre style=\"white-space:pre;overflow-x:auto;line-height:normal;font-family:Menlo,'DejaVu Sans Mono',consolas,'Courier New',monospace\"></pre>\n"
            ]
          },
          "metadata": {}
        },
        {
          "output_type": "display_data",
          "data": {
            "text/plain": [
              "\u001b[1m<\u001b[0m\u001b[1;95mIPython.core.display.HTML\u001b[0m\u001b[39m object\u001b[0m\u001b[1m>\u001b[0m"
            ],
            "text/html": [
              "<style>\n",
              "    table.wandb td:nth-child(1) { padding: 0 10px; text-align: left ; width: auto;} td:nth-child(2) {text-align: left ; width: 100%}\n",
              "    .wandb-row { display: flex; flex-direction: row; flex-wrap: wrap; justify-content: flex-start; width: 100% }\n",
              "    .wandb-col { display: flex; flex-direction: column; flex-basis: 100%; flex: 1; padding: 10px; }\n",
              "    </style>\n",
              "<div class=\"wandb-row\"><div class=\"wandb-col\"><h3>Run history:</h3><br/><table class=\"wandb\"><tr><td>Step</td><td>▁▁▁▁▂▂▂▂▂▃▃▃▃▃▃▄▄▄▄▄▅▅▅▅▅▅▆▆▆▆▆▇▇▇▇▇▇███</td></tr><tr><td>f1_score</td><td>▁▁▁▁▂▂▂▂▂▃▃▃▃▃▃▄▄▄▄▄▅▅▅▅▅▅▆▆▆▆▆▇▇▇▇▇▇███</td></tr><tr><td>recall</td><td>▁▁▁▁▂▂▂▂▂▃▃▃▃▃▃▄▄▄▄▄▅▅▅▅▅▅▆▆▆▆▆▇▇▇▇▇▇███</td></tr><tr><td>train_accuracy</td><td>▁▁▁▁▂▂▂▂▂▃▃▃▃▃▃▄▄▄▄▄▅▅▅▅▅▅▆▆▆▆▆▇▇▇▇▇▇███</td></tr><tr><td>train_loss</td><td>█▄▃▂▂▂▂▂▂▁▁▁▁▁▁▁▁▁▁▁▁▁▁▁▁▁▁▁▁▁▁▁▁▁▁▁▁▁▁▁</td></tr><tr><td>val_accuracy</td><td>▁▁▁▁▂▂▂▂▂▃▃▃▃▃▃▄▄▄▄▄▅▅▅▅▅▅▆▆▆▆▆▇▇▇▇▇▇███</td></tr><tr><td>val_loss</td><td>█▃▂▂▂▁▁▁▁▁▁▁▁▁▁▁▁▁▁▁▁▁▁▁▁▁▁▁▁▁▁▁▁▁▁▁▁▁▁▁</td></tr></table><br/></div><div class=\"wandb-col\"><h3>Run summary:</h3><br/><table class=\"wandb\"><tr><td>Step</td><td>99</td></tr><tr><td>f1_score</td><td>0.99</td></tr><tr><td>recall</td><td>0.825</td></tr><tr><td>train_accuracy</td><td>0.9</td></tr><tr><td>train_loss</td><td>0.0099</td></tr><tr><td>val_accuracy</td><td>0.99</td></tr><tr><td>val_loss</td><td>0.01</td></tr></table><br/></div></div>"
            ]
          },
          "metadata": {}
        },
        {
          "output_type": "display_data",
          "data": {
            "text/plain": [],
            "text/html": [
              "<pre style=\"white-space:pre;overflow-x:auto;line-height:normal;font-family:Menlo,'DejaVu Sans Mono',consolas,'Courier New',monospace\"></pre>\n"
            ]
          },
          "metadata": {}
        },
        {
          "output_type": "display_data",
          "data": {
            "text/plain": [
              "\u001b[1m<\u001b[0m\u001b[1;95mIPython.core.display.HTML\u001b[0m\u001b[39m object\u001b[0m\u001b[1m>\u001b[0m"
            ],
            "text/html": [
              " View run <strong style=\"color:#cdcd00\">sample_run</strong> at: <a href='https://wandb.ai/wandb/workspace-api-example/runs/j4icwtd1' target=\"_blank\">https://wandb.ai/wandb/workspace-api-example/runs/j4icwtd1</a><br/> View project at: <a href='https://wandb.ai/wandb/workspace-api-example' target=\"_blank\">https://wandb.ai/wandb/workspace-api-example</a><br/>Synced 4 W&B file(s), 0 media file(s), 4 artifact file(s) and 1 other file(s)"
            ]
          },
          "metadata": {}
        },
        {
          "output_type": "display_data",
          "data": {
            "text/plain": [],
            "text/html": [
              "<pre style=\"white-space:pre;overflow-x:auto;line-height:normal;font-family:Menlo,'DejaVu Sans Mono',consolas,'Courier New',monospace\"></pre>\n"
            ]
          },
          "metadata": {}
        },
        {
          "output_type": "display_data",
          "data": {
            "text/plain": [
              "\u001b[1m<\u001b[0m\u001b[1;95mIPython.core.display.HTML\u001b[0m\u001b[39m object\u001b[0m\u001b[1m>\u001b[0m"
            ],
            "text/html": [
              "Find logs at: <code>./wandb/run-20240703_131229-j4icwtd1/logs</code>"
            ]
          },
          "metadata": {}
        },
        {
          "output_type": "display_data",
          "data": {
            "text/plain": [],
            "text/html": [
              "<pre style=\"white-space:pre;overflow-x:auto;line-height:normal;font-family:Menlo,'DejaVu Sans Mono',consolas,'Courier New',monospace\"></pre>\n"
            ]
          },
          "metadata": {}
        },
        {
          "output_type": "display_data",
          "data": {
            "text/plain": [
              "\u001b[1m<\u001b[0m\u001b[1;95mIPython.core.display.HTML\u001b[0m\u001b[39m object\u001b[0m\u001b[1m>\u001b[0m"
            ],
            "text/html": [
              "The new W&B backend becomes opt-out in version 0.18.0; try it out with `wandb.require(\"core\")`! See https://wandb.me/wandb-core for more information."
            ]
          },
          "metadata": {}
        }
      ]
    },
    {
      "cell_type": "markdown",
      "source": [
        "# Summary of Programmatic Workspace features:\n",
        "The Weights & Biases Workspace API allows you to create, manage, and customize workspaces programmatically. These capabilities are designed to help you organize and visualize your machine learning experiments more effectively.\n",
        "\n",
        "\n",
        "### 1. Workspace Creation\n",
        "* **Define Create Workspaces:** You can create a workspace with a specific\n",
        "name, associate it with a project, and organize it into sections.\n",
        "* **Customization:** Customize each workspace with settings such as axis configurations, smoothing types, outlier handling, and more.\n",
        "\n",
        "### 2. Sections and Panels\n",
        "* **Sections:** Organize your workspace into multiple sections, each containing a specific set of panels. Sections can be opened or closed based on your preference.\n",
        "* **Panels:** Add various types of panels such as line plots, bar plots, and scalar charts to visualize different metrics.\n",
        "* **Layouts:** Customize the layout of panels within each section using standard or custom grid layouts.\n",
        "\n",
        "### 3. Workspace Settings\n",
        "* **Global Settings:** Configure global settings for the workspace, including axis settings, smoothing options, outlier handling, and tooltip settings.\n",
        "* **Section and Panel Settings:** Override global settings at the section or panel level to provide more granular control over the visualization.\n",
        "\n",
        "### 4. Run Management\n",
        "* **Run Sets:** Manage sets of runs in the workspace. Apply filters to include or exclude specific runs based on metrics or metadata.\n",
        "* **Grouping and Ordering:** Group and order runs within the run set to better analyze and compare different experiments.\n",
        "* **Run Customization:** Customize individual run settings such as color and visibility within the workspace..\n",
        "\n",
        "### 5. Filters and Queries\n",
        "* **Filter Expressions:** Apply complex filter expressions to include or exclude runs based on specific criteria.\n",
        "* **Regex Queries:** Use regular expressions to search and filter runs within the workspace.\n",
        "\n",
        "### 6. Saving and Loading Workspaces\n",
        "* **Save Workspaces:** Save the current state of a workspace, making it accessible as a `Saved view` from the Project.\n",
        "* **Load Workspaces:** Load an existing workspace from a URL to review or modify it.\n",
        "* **Clone Workspaces:** Save a modified workspace as a new view, allowing you to create multiple versions of a workspace without affecting the original."
      ],
      "metadata": {
        "id": "E7WAoOlsiQTL"
      }
    },
    {
      "cell_type": "code",
      "source": [
        "# Example 00: Creating a New Workspace with Sections and Panels\n",
        "def example_00(entity, project):\n",
        "    # Declare the workspace all at once\n",
        "    workspace = ws.Workspace(\n",
        "        name=\"Example W&B Workspace\",\n",
        "        entity=entity,\n",
        "        project=project,\n",
        "        sections=[\n",
        "            ws.Section(\n",
        "                name=\"Validation Metrics\",\n",
        "                panels=[\n",
        "                    wr.LinePlot(x=\"Step\", y=[\"val_loss\"]),\n",
        "                    wr.BarPlot(metrics=[\"val_accuracy\"]),\n",
        "                    wr.ScalarChart(metric=\"f1_score\", groupby_aggfunc=\"mean\"),\n",
        "                ],\n",
        "                is_open=True,\n",
        "            ),\n",
        "        ],\n",
        "    )\n",
        "\n",
        "    # Save the workspace to WandB\n",
        "    workspace.save()\n",
        "    print(\"Sample Workspace 00 saved.\")\n",
        "    return workspace.url\n",
        "\n",
        "# Run example 00 to create a workspace and get its URL\n",
        "workspace_url = example_00(entity, project)\n",
        "\n",
        "# Example 01: Loading and Cloning a Workspace\n",
        "def example_01(url):\n",
        "    # Load the workspace from the provided URL\n",
        "    workspace = ws.Workspace.from_url(url)\n",
        "\n",
        "    # Edit the workspace name and save it\n",
        "    workspace.name = \"Updated Workspace Name\"\n",
        "    workspace.save()\n",
        "    print(\"Workspace 01 updated and saved.\")\n",
        "\n",
        "    # Save the workspace as a new view\n",
        "    new_url = workspace.save_as_new_view()\n",
        "    print(f\"Workspace 01 saved as new view. New URL: {new_url}\")\n",
        "\n",
        "# Run example 01 with the URL from example 00\n",
        "example_01(workspace_url)\n",
        "\n",
        "# Example 02: Basic Workspace Settings\n",
        "def example_02(entity, project):\n",
        "    workspace = ws.Workspace(name=\"An example workspace\", entity=entity, project=project)\n",
        "\n",
        "    # Add sections with panels to the workspace\n",
        "    workspace.sections = [\n",
        "        ws.Section(\n",
        "            name=\"Validation\",\n",
        "            panels=[\n",
        "                wr.LinePlot(x=\"Step\", y=[\"val_loss\"]),\n",
        "                wr.LinePlot(x=\"Step\", y=[\"val_accuracy\"]),\n",
        "                wr.ScalarChart(metric=\"f1_score\", groupby_aggfunc=\"mean\"),\n",
        "                wr.ScalarChart(metric=\"recall\", groupby_aggfunc=\"mean\"),\n",
        "            ],\n",
        "            is_open=True,\n",
        "        ),\n",
        "        ws.Section(\n",
        "            name=\"Training\",\n",
        "            panels=[\n",
        "                wr.LinePlot(x=\"Step\", y=[\"train_loss\"]),\n",
        "                wr.LinePlot(x=\"Step\", y=[\"train_accuracy\"]),\n",
        "            ],\n",
        "        ),\n",
        "    ]\n",
        "\n",
        "    # Configure settings on the workspace\n",
        "    workspace.settings = ws.WorkspaceSettings(\n",
        "        x_min=0,\n",
        "        x_max=75,\n",
        "        smoothing_type=\"gaussian\",\n",
        "        point_visualization_method=\"bucketing\",\n",
        "    )\n",
        "\n",
        "    # Configure settings on individual sections\n",
        "    section = workspace.sections[0]\n",
        "    section.panel_settings = ws.SectionPanelSettings(\n",
        "        x_min=25,\n",
        "        x_max=50,\n",
        "        smoothing_type=\"none\",\n",
        "    )\n",
        "\n",
        "    # Configure settings on individual panels\n",
        "    panel = section.panels[0]\n",
        "    panel.title = \"Validation Loss Custom Title\"\n",
        "    panel.title_x = \"Custom x-axis title\"\n",
        "\n",
        "    # Save the workspace\n",
        "    workspace.save()\n",
        "    print(\"Workspace 02 with custom settings saved.\")\n",
        "\n",
        "# Example 03: Working with Filters\n",
        "def example_03(entity, project):\n",
        "    # Create filters using basic metrics and python expressions\n",
        "    val_loss_filter = ws.Metric(\"val_loss\") < 1\n",
        "\n",
        "    # Create filters using UI references like Name, Tags, or ID\n",
        "    run_name_filter = ws.Metric(\"Name\") == \"sample_run\"\n",
        "    run_id_filter = ws.Metric(\"ID\").isin([run.id for run in wandb.Api().runs(f\"{entity}/{project}\")])\n",
        "\n",
        "    # Create a workspace with filters\n",
        "    workspace = ws.Workspace(\n",
        "        name=\"An example workspace using filters\",\n",
        "        entity=entity,\n",
        "        project=project,\n",
        "        sections=[\n",
        "            ws.Section(\n",
        "                name=\"Validation\",\n",
        "                panels=[\n",
        "                    wr.LinePlot(x=\"Step\", y=[\"val_loss\"]),\n",
        "                    wr.LinePlot(x=\"Step\", y=[\"val_accuracy\"]),\n",
        "                ],\n",
        "                is_open=True,\n",
        "            ),\n",
        "        ],\n",
        "        runset_settings=ws.RunsetSettings(\n",
        "            filters=[\n",
        "                ws.Metric(\"Name\") == \"sample_run\",\n",
        "                ws.Metric(\"ID\").isin([run.id for run in wandb.Api().runs(f\"{entity}/{project}\")]),\n",
        "            ]\n",
        "        ),\n",
        "    )\n",
        "\n",
        "    # Save the workspace\n",
        "    workspace.save()\n",
        "    print(\"Workspace 03 with filters saved.\")\n"
      ],
      "metadata": {
        "colab": {
          "base_uri": "https://localhost:8080/"
        },
        "id": "sWmN5lNJB-pH",
        "outputId": "28118006-717b-4318-ae87-2d5b27cdb41b"
      },
      "execution_count": 7,
      "outputs": [
        {
          "output_type": "stream",
          "name": "stderr",
          "text": [
            "\u001b[34m\u001b[1mwandb\u001b[0m: View saved: https://wandb.ai/wandb/workspace-api-example?nw=uat4xv6uzsu\n"
          ]
        },
        {
          "output_type": "stream",
          "name": "stdout",
          "text": [
            "Sample Workspace 00 saved.\n"
          ]
        },
        {
          "output_type": "stream",
          "name": "stderr",
          "text": [
            "\u001b[34m\u001b[1mwandb\u001b[0m: View saved: https://wandb.ai/wandb/workspace-api-example?nw=uat4xv6uzsu\n"
          ]
        },
        {
          "output_type": "stream",
          "name": "stdout",
          "text": [
            "Workspace 01 updated and saved.\n"
          ]
        },
        {
          "output_type": "stream",
          "name": "stderr",
          "text": [
            "\u001b[34m\u001b[1mwandb\u001b[0m: View saved: https://wandb.ai/wandb/workspace-api-example?nw=05mhl1ke2o2\n"
          ]
        },
        {
          "output_type": "stream",
          "name": "stdout",
          "text": [
            "Workspace 01 saved as new view. New URL: Workspace(entity='wandb', project='workspace-api-example', name='Updated Workspace Name', sections=[Section(name='Validation Metrics', panels=[LinePlot(layout=Layout(x=0, y=0, w=8, h=6), x=Metric(name='Step'), y=[Metric(name='val_loss')]), BarPlot(layout=Layout(x=0, y=0, w=8, h=6), metrics=[Metric(name='val_accuracy')], orientation='h'), ScalarChart(layout=Layout(x=0, y=0, w=8, h=6), metric=Metric(name='f1_score'), groupby_aggfunc='mean')], is_open=True, layout_settings=SectionLayoutSettings(layout='standard', columns=3, rows=2), panel_settings=SectionPanelSettings(x_axis='Step', x_min=None, x_max=None, smoothing_type='none', smoothing_weight=0)), Section(name='Charts', panels=[], is_open=False, layout_settings=SectionLayoutSettings(layout='standard', columns=3, rows=2), panel_settings=SectionPanelSettings(x_axis='Step', x_min=None, x_max=None, smoothing_type='none', smoothing_weight=0)), Section(name='Hidden Panels', panels=[], is_open=False, layout_settings=SectionLayoutSettings(layout='standard', columns=3, rows=2), panel_settings=SectionPanelSettings(x_axis='Step', x_min=None, x_max=None, smoothing_type='none', smoothing_weight=0)), Section(name='System', panels=[], is_open=False, layout_settings=SectionLayoutSettings(layout='standard', columns=3, rows=2), panel_settings=SectionPanelSettings(x_axis='Step', x_min=None, x_max=None, smoothing_type='none', smoothing_weight=0))], settings=WorkspaceSettings(x_axis='Step', x_min=None, x_max=None, smoothing_type='none', smoothing_weight=0, ignore_outliers=False, remove_legends_from_panels=False, tooltip_number_of_runs='default', tooltip_color_run_names=True, max_runs=10, point_visualization_method='bucketing', panel_search_query='', auto_expand_panel_search_results=False), runset_settings=RunsetSettings(query='', regex_query=False, filters=[], groupby=[], order=[], run_settings={}))\n"
          ]
        }
      ]
    },
    {
      "cell_type": "code",
      "source": [
        "# Run example 00: Creating a New Workspace with Sections and Panels\n",
        "\n",
        "# Purpose: Demonstrates how to create a new workspace and populate it with sections and panels.\n",
        "# Benefit: Helps users organize and visualize their project metrics in a structured manner.\n",
        "\n",
        "example_00(entity,project)"
      ],
      "metadata": {
        "colab": {
          "base_uri": "https://localhost:8080/",
          "height": 69
        },
        "id": "sMZk9UWu9fMW",
        "outputId": "ac103fcf-209c-4e4a-84f3-44c293f5efa2"
      },
      "execution_count": 8,
      "outputs": [
        {
          "output_type": "stream",
          "name": "stderr",
          "text": [
            "\u001b[34m\u001b[1mwandb\u001b[0m: View saved: https://wandb.ai/wandb/workspace-api-example?nw=w5acvh36h59\n"
          ]
        },
        {
          "output_type": "stream",
          "name": "stdout",
          "text": [
            "Sample Workspace 00 saved.\n"
          ]
        },
        {
          "output_type": "display_data",
          "data": {
            "text/plain": [],
            "text/html": [
              "<pre style=\"white-space:pre;overflow-x:auto;line-height:normal;font-family:Menlo,'DejaVu Sans Mono',consolas,'Courier New',monospace\"></pre>\n"
            ]
          },
          "metadata": {}
        },
        {
          "output_type": "execute_result",
          "data": {
            "text/plain": [
              "\u001b[32m'https://wandb.ai/wandb/workspace-api-example?\u001b[0m\u001b[32mnw\u001b[0m\u001b[32m=\u001b[0m\u001b[32mw5acvh36h59\u001b[0m\u001b[32m'\u001b[0m"
            ],
            "application/vnd.google.colaboratory.intrinsic+json": {
              "type": "string"
            }
          },
          "metadata": {},
          "execution_count": 8
        }
      ]
    },
    {
      "cell_type": "code",
      "source": [
        "# Run example 01: Loading and Cloning a Workspace\n",
        "\n",
        "# Purpose: Demonstrates how to load an existing workspace, modify it, and save it as a new view.\n",
        "# Benefit: Allows users to duplicate and customize workspaces without affecting the original setup.\n",
        "example_01(workspace_url)\n"
      ],
      "metadata": {
        "colab": {
          "base_uri": "https://localhost:8080/"
        },
        "id": "_gWiaq_r9xIM",
        "outputId": "1be33bf8-cd44-4e75-988e-4064e1c70bd4"
      },
      "execution_count": 9,
      "outputs": [
        {
          "output_type": "stream",
          "name": "stderr",
          "text": [
            "\u001b[34m\u001b[1mwandb\u001b[0m: View saved: https://wandb.ai/wandb/workspace-api-example?nw=uat4xv6uzsu\n"
          ]
        },
        {
          "output_type": "stream",
          "name": "stdout",
          "text": [
            "Workspace 01 updated and saved.\n"
          ]
        },
        {
          "output_type": "stream",
          "name": "stderr",
          "text": [
            "\u001b[34m\u001b[1mwandb\u001b[0m: View saved: https://wandb.ai/wandb/workspace-api-example?nw=l224hbl81ir\n"
          ]
        },
        {
          "output_type": "stream",
          "name": "stdout",
          "text": [
            "Workspace 01 saved as new view. New URL: Workspace(entity='wandb', project='workspace-api-example', name='Updated Workspace Name', sections=[Section(name='Validation Metrics', panels=[LinePlot(layout=Layout(x=0, y=0, w=8, h=6), x=Metric(name='Step'), y=[Metric(name='val_loss')]), BarPlot(layout=Layout(x=0, y=0, w=8, h=6), metrics=[Metric(name='val_accuracy')], orientation='h'), ScalarChart(layout=Layout(x=0, y=0, w=8, h=6), metric=Metric(name='f1_score'), groupby_aggfunc='mean')], is_open=True, layout_settings=SectionLayoutSettings(layout='standard', columns=3, rows=2), panel_settings=SectionPanelSettings(x_axis='Step', x_min=None, x_max=None, smoothing_type='none', smoothing_weight=0)), Section(name='Charts', panels=[], is_open=False, layout_settings=SectionLayoutSettings(layout='standard', columns=3, rows=2), panel_settings=SectionPanelSettings(x_axis='Step', x_min=None, x_max=None, smoothing_type='none', smoothing_weight=0)), Section(name='Hidden Panels', panels=[], is_open=False, layout_settings=SectionLayoutSettings(layout='standard', columns=3, rows=2), panel_settings=SectionPanelSettings(x_axis='Step', x_min=None, x_max=None, smoothing_type='none', smoothing_weight=0)), Section(name='System', panels=[], is_open=False, layout_settings=SectionLayoutSettings(layout='standard', columns=3, rows=2), panel_settings=SectionPanelSettings(x_axis='Step', x_min=None, x_max=None, smoothing_type='none', smoothing_weight=0))], settings=WorkspaceSettings(x_axis='Step', x_min=None, x_max=None, smoothing_type='none', smoothing_weight=0, ignore_outliers=False, remove_legends_from_panels=False, tooltip_number_of_runs='default', tooltip_color_run_names=True, max_runs=10, point_visualization_method='bucketing', panel_search_query='', auto_expand_panel_search_results=False), runset_settings=RunsetSettings(query='', regex_query=False, filters=[], groupby=[], order=[], run_settings={}))\n"
          ]
        }
      ]
    },
    {
      "cell_type": "code",
      "source": [
        "# Run example 02: Basic Workspace Settings\n",
        "\n",
        "# Purpose: Demonstrates how to create a workspace, add sections with panels, and configure settings for the workspace and individual panels.\n",
        "# Benefit: Provides users with the ability to customize their workspace layout and visualization settings.\n",
        "\n",
        "example_02(entity, project)\n"
      ],
      "metadata": {
        "colab": {
          "base_uri": "https://localhost:8080/"
        },
        "id": "irVaxJ289yMa",
        "outputId": "17417b5f-5767-4be2-c33d-9a7611159198"
      },
      "execution_count": 10,
      "outputs": [
        {
          "output_type": "stream",
          "name": "stderr",
          "text": [
            "\u001b[34m\u001b[1mwandb\u001b[0m: View saved: https://wandb.ai/wandb/workspace-api-example?nw=cogz2hhwfms\n"
          ]
        },
        {
          "output_type": "stream",
          "name": "stdout",
          "text": [
            "Workspace 02 with custom settings saved.\n"
          ]
        }
      ]
    },
    {
      "cell_type": "code",
      "source": [
        "# Run example 03: Working with Filters\n",
        "\n",
        "# Purpose: Demonstrates how to create a workspace using filters to manage runs based on specific criteria.\n",
        "# Benefit: Allows users to focus on specific subsets of their data, making it easier to analyze and compare results.\n",
        "\n",
        "example_03(entity, project)"
      ],
      "metadata": {
        "colab": {
          "base_uri": "https://localhost:8080/"
        },
        "id": "fXCA2ln49zDF",
        "outputId": "77bd5c0b-01ee-4662-f4a9-6246fa22be80"
      },
      "execution_count": 11,
      "outputs": [
        {
          "output_type": "stream",
          "name": "stderr",
          "text": [
            "\u001b[34m\u001b[1mwandb\u001b[0m: View saved: https://wandb.ai/wandb/workspace-api-example?nw=w02hvd3d152\n"
          ]
        },
        {
          "output_type": "stream",
          "name": "stdout",
          "text": [
            "Workspace 03 with filters saved.\n"
          ]
        }
      ]
    },
    {
      "cell_type": "markdown",
      "source": [],
      "metadata": {
        "id": "0LROCPiXi0Nh"
      }
    }
  ]
}